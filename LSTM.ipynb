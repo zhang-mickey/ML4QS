{
 "cells": [
  {
   "cell_type": "code",
   "execution_count": 24,
   "id": "6a19b7c1-30fa-4cea-aa7b-517190fc63d5",
   "metadata": {
    "tags": []
   },
   "outputs": [],
   "source": [
    "import numpy as np\n",
    "import pandas as pd\n",
    "from sklearn.preprocessing import LabelEncoder\n",
    "from sklearn.model_selection import train_test_split\n",
    "import torch\n",
    "import torch.nn as nn\n",
    "import torch.optim as optim\n",
    "from torch.utils.data import DataLoader, TensorDataset"
   ]
  },
  {
   "cell_type": "code",
   "execution_count": 25,
   "id": "3de22187-9bff-420b-869a-f06aa8f3c5f0",
   "metadata": {
    "tags": []
   },
   "outputs": [],
   "source": [
    "file_path = 'result/output.csv'\n",
    "# data = pd.read_csv(file_path)\n",
    "data = pd.read_csv(file_path)"
   ]
  },
  {
   "cell_type": "code",
   "execution_count": 26,
   "id": "095207c1-1ad0-4a3c-9ada-24ca1058b7f3",
   "metadata": {
    "tags": []
   },
   "outputs": [],
   "source": [
    "# 分离特征和目标变量\n",
    "y = data['act']\n",
    "X = data.drop(columns=['Unnamed: 0', 'act'])\n",
    "\n"
   ]
  },
  {
   "cell_type": "code",
   "execution_count": 27,
   "id": "eceda5ad-9746-44fe-9860-b9a9b8309537",
   "metadata": {
    "tags": []
   },
   "outputs": [],
   "source": [
    "# 对目标变量进行编码\n",
    "label_encoder = LabelEncoder()\n",
    "y = label_encoder.fit_transform(y)"
   ]
  },
  {
   "cell_type": "code",
   "execution_count": 28,
   "id": "74983d8b-20e0-4798-a53c-977bbf8439dc",
   "metadata": {
    "tags": []
   },
   "outputs": [],
   "source": [
    "# 划分训练集和测试集\n",
    "X_train, X_test, y_train, y_test = train_test_split(X, y, test_size=0.2, random_state=42)"
   ]
  },
  {
   "cell_type": "code",
   "execution_count": 29,
   "id": "d751a224-c9ed-46b0-8845-66a97ed617b3",
   "metadata": {
    "tags": []
   },
   "outputs": [],
   "source": [
    "# 将数据转换为 PyTorch 张量\n",
    "X_train_tensor = torch.tensor(X_train.values, dtype=torch.float32)\n",
    "X_test_tensor = torch.tensor(X_test.values, dtype=torch.float32)\n",
    "y_train_tensor = torch.tensor(y_train, dtype=torch.long)\n",
    "y_test_tensor = torch.tensor(y_test, dtype=torch.long)"
   ]
  },
  {
   "cell_type": "code",
   "execution_count": 30,
   "id": "2c9786d4-f99e-41a3-aa06-bd95ebf3bacd",
   "metadata": {
    "tags": []
   },
   "outputs": [],
   "source": [
    "# 构建数据集和数据加载器\n",
    "batch_size = 1\n",
    "train_dataset = TensorDataset(X_train_tensor, y_train_tensor)\n",
    "train_loader = DataLoader(train_dataset, batch_size, shuffle=True)\n",
    "test_dataset = TensorDataset(X_test_tensor, y_test_tensor)\n",
    "test_loader = DataLoader(test_dataset, batch_size, shuffle=False)"
   ]
  },
  {
   "cell_type": "code",
   "execution_count": 31,
   "id": "2930009e-3cd7-4e8b-8217-3c6c64d109d1",
   "metadata": {
    "tags": []
   },
   "outputs": [],
   "source": [
    "# 定义 LSTM 模型\n",
    "class LSTMModel(nn.Module):\n",
    "    def __init__(self, input_size, hidden_size, num_layers, num_classes):\n",
    "        super(LSTMModel, self).__init__()\n",
    "        self.hidden_size = hidden_size\n",
    "        self.num_layers = num_layers\n",
    "        self.lstm = nn.LSTM(input_size, hidden_size, num_layers, batch_first=True)\n",
    "        self.fc = nn.Linear(hidden_size, num_classes)\n",
    "\n",
    "    def forward(self, x):\n",
    "        h0 = torch.zeros(self.num_layers, x.size(0), self.hidden_size).to(x.device)\n",
    "        c0 = torch.zeros(self.num_layers, x.size(0), self.hidden_size).to(x.device)\n",
    "        # 调整输入数据的维度\n",
    "        x = x.unsqueeze(1)\n",
    "        out, _ = self.lstm(x, (h0, c0))\n",
    "        out = self.fc(out[:, -1, :])\n",
    "        return out\n"
   ]
  },
  {
   "cell_type": "code",
   "execution_count": 32,
   "id": "c43610b5-cc9c-4ec1-8921-208075f0d1ad",
   "metadata": {
    "tags": []
   },
   "outputs": [],
   "source": [
    "# 定义模型参数\n",
    "input_size = X_train.shape[1]\n",
    "hidden_size = 64\n",
    "num_layers = 1\n",
    "num_classes = len(label_encoder.classes_)"
   ]
  },
  {
   "cell_type": "code",
   "execution_count": 33,
   "id": "0f722122-285e-4b0a-ac01-7f281de7a323",
   "metadata": {
    "tags": []
   },
   "outputs": [],
   "source": [
    "# 初始化模型、损失函数和优化器\n",
    "model = LSTMModel(input_size, hidden_size, num_layers, num_classes)\n",
    "criterion = nn.CrossEntropyLoss()\n",
    "optimizer = optim.Adam(model.parameters(), lr=0.001)\n"
   ]
  },
  {
   "cell_type": "code",
   "execution_count": null,
   "id": "c21ca45e-d9da-4bb0-9d78-1255f259cc1f",
   "metadata": {
    "tags": []
   },
   "outputs": [],
   "source": [
    "# 训练模型\n",
    "num_epochs = 50\n",
    "for epoch in range(num_epochs):\n",
    "    for inputs, labels in train_loader:\n",
    "        optimizer.zero_grad()\n",
    "        outputs = model(inputs)\n",
    "        loss = criterion(outputs, labels)\n",
    "        loss.backward()\n",
    "        optimizer.step()\n",
    "    print(f'Epoch [{epoch+1}/{num_epochs}], Loss: {loss.item()}')"
   ]
  },
  {
   "cell_type": "code",
   "execution_count": null,
   "id": "a24a6048-2b95-40e3-a672-f63f4a63494f",
   "metadata": {},
   "outputs": [],
   "source": [
    "# 评估模型\n",
    "model.eval()\n",
    "with torch.no_grad():\n",
    "    correct = 0\n",
    "    total = 0\n",
    "    for inputs, labels in test_loader:\n",
    "        outputs = model(inputs)\n",
    "        _, predicted = torch.max(outputs.data, 1)\n",
    "        total += labels.size(0)\n",
    "        correct += (predicted == labels).sum().item()\n",
    "\n",
    "    print(f'Test Accuracy: {100 * correct / total}%')\n"
   ]
  }
 ],
 "metadata": {
  "kernelspec": {
   "display_name": "Python 3 (ipykernel)",
   "language": "python",
   "name": "python3"
  },
  "language_info": {
   "codemirror_mode": {
    "name": "ipython",
    "version": 3
   },
   "file_extension": ".py",
   "mimetype": "text/x-python",
   "name": "python",
   "nbconvert_exporter": "python",
   "pygments_lexer": "ipython3",
   "version": "3.11.5"
  }
 },
 "nbformat": 4,
 "nbformat_minor": 5
}
