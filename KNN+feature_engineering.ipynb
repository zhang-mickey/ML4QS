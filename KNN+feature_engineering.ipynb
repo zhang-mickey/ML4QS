{
 "cells": [
  {
   "cell_type": "code",
   "execution_count": 76,
   "id": "f74d3f3d",
   "metadata": {},
   "outputs": [],
   "source": [
    "import pandas as pd\n",
    "import numpy as np\n",
    "from sklearn.model_selection import train_test_split, GridSearchCV\n",
    "from sklearn.ensemble import RandomForestClassifier\n",
    "from sklearn.neighbors import KNeighborsClassifier\n",
    "from sklearn.model_selection import cross_val_score\n",
    "from sklearn.metrics import accuracy_score, classification_report\n",
    "from sklearn.decomposition import PCA\n",
    "from sklearn.preprocessing import StandardScaler\n",
    "from sklearn.feature_selection import SelectFromModel\n",
    "from scipy.stats import kurtosis, skew\n",
    "from scipy.signal import find_peaks\n",
    "from scipy.fft import fft"
   ]
  },
  {
   "cell_type": "code",
   "execution_count": 56,
   "id": "39a7882e",
   "metadata": {},
   "outputs": [
    {
     "data": {
      "text/plain": [
       "0"
      ]
     },
     "execution_count": 56,
     "metadata": {},
     "output_type": "execute_result"
    }
   ],
   "source": [
    "output_df = pd.read_csv(\"output.csv\")\n",
    "output_df['act'] = output_df['act'].map({'Others': 0, 'Normal': 1, 'Turning': 2,'Crouching': 3, 'Falling': 4})\n",
    "output_df['act'].isnull().sum()"
   ]
  },
  {
   "cell_type": "code",
   "execution_count": 57,
   "id": "7fa8e40d",
   "metadata": {},
   "outputs": [],
   "source": [
    "acc_columns = ['f_acc_x', 'f_acc_y', 'f_acc_z', 'w_acc_x', 'w_acc_y', 'w_acc_z']\n",
    "gyr_columns = ['f_gyr_x', 'f_gyr_y', 'f_gyr_z', 'w_gyr_x', 'w_gyr_y', 'w_gyr_z']\n",
    "loc_columns = ['f_loc_h', 'f_loc_v', 'f_loc_d', 'w_loc_h', 'w_loc_v', 'w_loc_d']\n",
    "mag_columns = ['f_mag_x', 'f_mag_y', 'f_mag_z', 'w_mag_x', 'w_mag_y', 'w_mag_z']\n",
    "all_columns = acc_columns + gyr_columns + loc_columns + mag_columns"
   ]
  },
  {
   "cell_type": "code",
   "execution_count": null,
   "id": "5ef3178d",
   "metadata": {
    "scrolled": false
   },
   "outputs": [],
   "source": []
  },
  {
   "cell_type": "code",
   "execution_count": 58,
   "id": "1c500ff8",
   "metadata": {},
   "outputs": [],
   "source": [
    "# 定义函数以计算零交叉点\n",
    "def zero_crossings(arr):\n",
    "    return ((arr[:-1] * arr[1:]) < 0).sum()"
   ]
  },
  {
   "cell_type": "code",
   "execution_count": 59,
   "id": "d0f66096",
   "metadata": {},
   "outputs": [],
   "source": [
    "def fft_features(arr):\n",
    "    fft_coeff = fft(arr)\n",
    "    return np.abs(fft_coeff[:len(fft_coeff)//2]).mean()  # 只保留前半部分系数的均值"
   ]
  },
  {
   "cell_type": "code",
   "execution_count": 60,
   "id": "532dd0c1",
   "metadata": {},
   "outputs": [
    {
     "name": "stderr",
     "output_type": "stream",
     "text": [
      "C:\\Users\\FRANKL~1\\AppData\\Local\\Temp/ipykernel_24776/3594732666.py:9: PerformanceWarning: DataFrame is highly fragmented.  This is usually the result of calling `frame.insert` many times, which has poor performance.  Consider joining all columns at once using pd.concat(axis=1) instead. To get a de-fragmented frame, use `newframe = frame.copy()`\n",
      "  output_df[f'{col}_zero_crossings'] = output_df[col].rolling(window=window_size, min_periods=1).apply(zero_crossings, raw=True)\n",
      "C:\\Users\\FRANKL~1\\AppData\\Local\\Temp/ipykernel_24776/3594732666.py:3: PerformanceWarning: DataFrame is highly fragmented.  This is usually the result of calling `frame.insert` many times, which has poor performance.  Consider joining all columns at once using pd.concat(axis=1) instead. To get a de-fragmented frame, use `newframe = frame.copy()`\n",
      "  output_df[f'{col}_mean'] = output_df[col].rolling(window=window_size, min_periods=1).mean()\n",
      "C:\\Users\\FRANKL~1\\AppData\\Local\\Temp/ipykernel_24776/3594732666.py:4: PerformanceWarning: DataFrame is highly fragmented.  This is usually the result of calling `frame.insert` many times, which has poor performance.  Consider joining all columns at once using pd.concat(axis=1) instead. To get a de-fragmented frame, use `newframe = frame.copy()`\n",
      "  output_df[f'{col}_std'] = output_df[col].rolling(window=window_size, min_periods=1).std()\n",
      "C:\\Users\\FRANKL~1\\AppData\\Local\\Temp/ipykernel_24776/3594732666.py:5: PerformanceWarning: DataFrame is highly fragmented.  This is usually the result of calling `frame.insert` many times, which has poor performance.  Consider joining all columns at once using pd.concat(axis=1) instead. To get a de-fragmented frame, use `newframe = frame.copy()`\n",
      "  output_df[f'{col}_min'] = output_df[col].rolling(window=window_size, min_periods=1).min()\n",
      "C:\\Users\\FRANKL~1\\AppData\\Local\\Temp/ipykernel_24776/3594732666.py:6: PerformanceWarning: DataFrame is highly fragmented.  This is usually the result of calling `frame.insert` many times, which has poor performance.  Consider joining all columns at once using pd.concat(axis=1) instead. To get a de-fragmented frame, use `newframe = frame.copy()`\n",
      "  output_df[f'{col}_max'] = output_df[col].rolling(window=window_size, min_periods=1).max()\n",
      "C:\\Users\\FRANKL~1\\AppData\\Local\\Temp/ipykernel_24776/3594732666.py:7: PerformanceWarning: DataFrame is highly fragmented.  This is usually the result of calling `frame.insert` many times, which has poor performance.  Consider joining all columns at once using pd.concat(axis=1) instead. To get a de-fragmented frame, use `newframe = frame.copy()`\n",
      "  output_df[f'{col}_kurtosis'] = output_df[col].rolling(window=window_size, min_periods=1).apply(kurtosis, raw=True)\n",
      "C:\\Users\\FRANKL~1\\AppData\\Local\\Temp/ipykernel_24776/3594732666.py:8: PerformanceWarning: DataFrame is highly fragmented.  This is usually the result of calling `frame.insert` many times, which has poor performance.  Consider joining all columns at once using pd.concat(axis=1) instead. To get a de-fragmented frame, use `newframe = frame.copy()`\n",
      "  output_df[f'{col}_skew'] = output_df[col].rolling(window=window_size, min_periods=1).apply(skew, raw=True)\n",
      "C:\\Users\\FRANKL~1\\AppData\\Local\\Temp/ipykernel_24776/3594732666.py:9: PerformanceWarning: DataFrame is highly fragmented.  This is usually the result of calling `frame.insert` many times, which has poor performance.  Consider joining all columns at once using pd.concat(axis=1) instead. To get a de-fragmented frame, use `newframe = frame.copy()`\n",
      "  output_df[f'{col}_zero_crossings'] = output_df[col].rolling(window=window_size, min_periods=1).apply(zero_crossings, raw=True)\n",
      "C:\\Users\\FRANKL~1\\AppData\\Local\\Temp/ipykernel_24776/3594732666.py:3: PerformanceWarning: DataFrame is highly fragmented.  This is usually the result of calling `frame.insert` many times, which has poor performance.  Consider joining all columns at once using pd.concat(axis=1) instead. To get a de-fragmented frame, use `newframe = frame.copy()`\n",
      "  output_df[f'{col}_mean'] = output_df[col].rolling(window=window_size, min_periods=1).mean()\n",
      "C:\\Users\\FRANKL~1\\AppData\\Local\\Temp/ipykernel_24776/3594732666.py:4: PerformanceWarning: DataFrame is highly fragmented.  This is usually the result of calling `frame.insert` many times, which has poor performance.  Consider joining all columns at once using pd.concat(axis=1) instead. To get a de-fragmented frame, use `newframe = frame.copy()`\n",
      "  output_df[f'{col}_std'] = output_df[col].rolling(window=window_size, min_periods=1).std()\n",
      "C:\\Users\\FRANKL~1\\AppData\\Local\\Temp/ipykernel_24776/3594732666.py:5: PerformanceWarning: DataFrame is highly fragmented.  This is usually the result of calling `frame.insert` many times, which has poor performance.  Consider joining all columns at once using pd.concat(axis=1) instead. To get a de-fragmented frame, use `newframe = frame.copy()`\n",
      "  output_df[f'{col}_min'] = output_df[col].rolling(window=window_size, min_periods=1).min()\n",
      "C:\\Users\\FRANKL~1\\AppData\\Local\\Temp/ipykernel_24776/3594732666.py:6: PerformanceWarning: DataFrame is highly fragmented.  This is usually the result of calling `frame.insert` many times, which has poor performance.  Consider joining all columns at once using pd.concat(axis=1) instead. To get a de-fragmented frame, use `newframe = frame.copy()`\n",
      "  output_df[f'{col}_max'] = output_df[col].rolling(window=window_size, min_periods=1).max()\n",
      "C:\\Users\\FRANKL~1\\AppData\\Local\\Temp/ipykernel_24776/3594732666.py:7: PerformanceWarning: DataFrame is highly fragmented.  This is usually the result of calling `frame.insert` many times, which has poor performance.  Consider joining all columns at once using pd.concat(axis=1) instead. To get a de-fragmented frame, use `newframe = frame.copy()`\n",
      "  output_df[f'{col}_kurtosis'] = output_df[col].rolling(window=window_size, min_periods=1).apply(kurtosis, raw=True)\n",
      "C:\\Users\\FRANKL~1\\AppData\\Local\\Temp/ipykernel_24776/3594732666.py:8: PerformanceWarning: DataFrame is highly fragmented.  This is usually the result of calling `frame.insert` many times, which has poor performance.  Consider joining all columns at once using pd.concat(axis=1) instead. To get a de-fragmented frame, use `newframe = frame.copy()`\n",
      "  output_df[f'{col}_skew'] = output_df[col].rolling(window=window_size, min_periods=1).apply(skew, raw=True)\n",
      "C:\\Users\\FRANKL~1\\AppData\\Local\\Temp/ipykernel_24776/3594732666.py:9: PerformanceWarning: DataFrame is highly fragmented.  This is usually the result of calling `frame.insert` many times, which has poor performance.  Consider joining all columns at once using pd.concat(axis=1) instead. To get a de-fragmented frame, use `newframe = frame.copy()`\n",
      "  output_df[f'{col}_zero_crossings'] = output_df[col].rolling(window=window_size, min_periods=1).apply(zero_crossings, raw=True)\n",
      "C:\\Users\\FRANKL~1\\AppData\\Local\\Temp/ipykernel_24776/3594732666.py:3: PerformanceWarning: DataFrame is highly fragmented.  This is usually the result of calling `frame.insert` many times, which has poor performance.  Consider joining all columns at once using pd.concat(axis=1) instead. To get a de-fragmented frame, use `newframe = frame.copy()`\n",
      "  output_df[f'{col}_mean'] = output_df[col].rolling(window=window_size, min_periods=1).mean()\n",
      "C:\\Users\\FRANKL~1\\AppData\\Local\\Temp/ipykernel_24776/3594732666.py:4: PerformanceWarning: DataFrame is highly fragmented.  This is usually the result of calling `frame.insert` many times, which has poor performance.  Consider joining all columns at once using pd.concat(axis=1) instead. To get a de-fragmented frame, use `newframe = frame.copy()`\n",
      "  output_df[f'{col}_std'] = output_df[col].rolling(window=window_size, min_periods=1).std()\n",
      "C:\\Users\\FRANKL~1\\AppData\\Local\\Temp/ipykernel_24776/3594732666.py:5: PerformanceWarning: DataFrame is highly fragmented.  This is usually the result of calling `frame.insert` many times, which has poor performance.  Consider joining all columns at once using pd.concat(axis=1) instead. To get a de-fragmented frame, use `newframe = frame.copy()`\n",
      "  output_df[f'{col}_min'] = output_df[col].rolling(window=window_size, min_periods=1).min()\n",
      "C:\\Users\\FRANKL~1\\AppData\\Local\\Temp/ipykernel_24776/3594732666.py:6: PerformanceWarning: DataFrame is highly fragmented.  This is usually the result of calling `frame.insert` many times, which has poor performance.  Consider joining all columns at once using pd.concat(axis=1) instead. To get a de-fragmented frame, use `newframe = frame.copy()`\n",
      "  output_df[f'{col}_max'] = output_df[col].rolling(window=window_size, min_periods=1).max()\n",
      "C:\\Users\\FRANKL~1\\AppData\\Local\\Temp/ipykernel_24776/3594732666.py:7: PerformanceWarning: DataFrame is highly fragmented.  This is usually the result of calling `frame.insert` many times, which has poor performance.  Consider joining all columns at once using pd.concat(axis=1) instead. To get a de-fragmented frame, use `newframe = frame.copy()`\n",
      "  output_df[f'{col}_kurtosis'] = output_df[col].rolling(window=window_size, min_periods=1).apply(kurtosis, raw=True)\n",
      "C:\\Users\\FRANKL~1\\AppData\\Local\\Temp/ipykernel_24776/3594732666.py:8: PerformanceWarning: DataFrame is highly fragmented.  This is usually the result of calling `frame.insert` many times, which has poor performance.  Consider joining all columns at once using pd.concat(axis=1) instead. To get a de-fragmented frame, use `newframe = frame.copy()`\n",
      "  output_df[f'{col}_skew'] = output_df[col].rolling(window=window_size, min_periods=1).apply(skew, raw=True)\n",
      "C:\\Users\\FRANKL~1\\AppData\\Local\\Temp/ipykernel_24776/3594732666.py:9: PerformanceWarning: DataFrame is highly fragmented.  This is usually the result of calling `frame.insert` many times, which has poor performance.  Consider joining all columns at once using pd.concat(axis=1) instead. To get a de-fragmented frame, use `newframe = frame.copy()`\n",
      "  output_df[f'{col}_zero_crossings'] = output_df[col].rolling(window=window_size, min_periods=1).apply(zero_crossings, raw=True)\n",
      "C:\\Users\\FRANKL~1\\AppData\\Local\\Temp/ipykernel_24776/3594732666.py:3: PerformanceWarning: DataFrame is highly fragmented.  This is usually the result of calling `frame.insert` many times, which has poor performance.  Consider joining all columns at once using pd.concat(axis=1) instead. To get a de-fragmented frame, use `newframe = frame.copy()`\n",
      "  output_df[f'{col}_mean'] = output_df[col].rolling(window=window_size, min_periods=1).mean()\n",
      "C:\\Users\\FRANKL~1\\AppData\\Local\\Temp/ipykernel_24776/3594732666.py:4: PerformanceWarning: DataFrame is highly fragmented.  This is usually the result of calling `frame.insert` many times, which has poor performance.  Consider joining all columns at once using pd.concat(axis=1) instead. To get a de-fragmented frame, use `newframe = frame.copy()`\n",
      "  output_df[f'{col}_std'] = output_df[col].rolling(window=window_size, min_periods=1).std()\n",
      "C:\\Users\\FRANKL~1\\AppData\\Local\\Temp/ipykernel_24776/3594732666.py:5: PerformanceWarning: DataFrame is highly fragmented.  This is usually the result of calling `frame.insert` many times, which has poor performance.  Consider joining all columns at once using pd.concat(axis=1) instead. To get a de-fragmented frame, use `newframe = frame.copy()`\n",
      "  output_df[f'{col}_min'] = output_df[col].rolling(window=window_size, min_periods=1).min()\n",
      "C:\\Users\\FRANKL~1\\AppData\\Local\\Temp/ipykernel_24776/3594732666.py:6: PerformanceWarning: DataFrame is highly fragmented.  This is usually the result of calling `frame.insert` many times, which has poor performance.  Consider joining all columns at once using pd.concat(axis=1) instead. To get a de-fragmented frame, use `newframe = frame.copy()`\n",
      "  output_df[f'{col}_max'] = output_df[col].rolling(window=window_size, min_periods=1).max()\n",
      "C:\\Users\\FRANKL~1\\AppData\\Local\\Temp/ipykernel_24776/3594732666.py:7: PerformanceWarning: DataFrame is highly fragmented.  This is usually the result of calling `frame.insert` many times, which has poor performance.  Consider joining all columns at once using pd.concat(axis=1) instead. To get a de-fragmented frame, use `newframe = frame.copy()`\n",
      "  output_df[f'{col}_kurtosis'] = output_df[col].rolling(window=window_size, min_periods=1).apply(kurtosis, raw=True)\n",
      "C:\\Users\\FRANKL~1\\AppData\\Local\\Temp/ipykernel_24776/3594732666.py:8: PerformanceWarning: DataFrame is highly fragmented.  This is usually the result of calling `frame.insert` many times, which has poor performance.  Consider joining all columns at once using pd.concat(axis=1) instead. To get a de-fragmented frame, use `newframe = frame.copy()`\n",
      "  output_df[f'{col}_skew'] = output_df[col].rolling(window=window_size, min_periods=1).apply(skew, raw=True)\n",
      "C:\\Users\\FRANKL~1\\AppData\\Local\\Temp/ipykernel_24776/3594732666.py:9: PerformanceWarning: DataFrame is highly fragmented.  This is usually the result of calling `frame.insert` many times, which has poor performance.  Consider joining all columns at once using pd.concat(axis=1) instead. To get a de-fragmented frame, use `newframe = frame.copy()`\n",
      "  output_df[f'{col}_zero_crossings'] = output_df[col].rolling(window=window_size, min_periods=1).apply(zero_crossings, raw=True)\n",
      "C:\\Users\\FRANKL~1\\AppData\\Local\\Temp/ipykernel_24776/3594732666.py:3: PerformanceWarning: DataFrame is highly fragmented.  This is usually the result of calling `frame.insert` many times, which has poor performance.  Consider joining all columns at once using pd.concat(axis=1) instead. To get a de-fragmented frame, use `newframe = frame.copy()`\n",
      "  output_df[f'{col}_mean'] = output_df[col].rolling(window=window_size, min_periods=1).mean()\n",
      "C:\\Users\\FRANKL~1\\AppData\\Local\\Temp/ipykernel_24776/3594732666.py:4: PerformanceWarning: DataFrame is highly fragmented.  This is usually the result of calling `frame.insert` many times, which has poor performance.  Consider joining all columns at once using pd.concat(axis=1) instead. To get a de-fragmented frame, use `newframe = frame.copy()`\n",
      "  output_df[f'{col}_std'] = output_df[col].rolling(window=window_size, min_periods=1).std()\n",
      "C:\\Users\\FRANKL~1\\AppData\\Local\\Temp/ipykernel_24776/3594732666.py:5: PerformanceWarning: DataFrame is highly fragmented.  This is usually the result of calling `frame.insert` many times, which has poor performance.  Consider joining all columns at once using pd.concat(axis=1) instead. To get a de-fragmented frame, use `newframe = frame.copy()`\n",
      "  output_df[f'{col}_min'] = output_df[col].rolling(window=window_size, min_periods=1).min()\n",
      "C:\\Users\\FRANKL~1\\AppData\\Local\\Temp/ipykernel_24776/3594732666.py:6: PerformanceWarning: DataFrame is highly fragmented.  This is usually the result of calling `frame.insert` many times, which has poor performance.  Consider joining all columns at once using pd.concat(axis=1) instead. To get a de-fragmented frame, use `newframe = frame.copy()`\n",
      "  output_df[f'{col}_max'] = output_df[col].rolling(window=window_size, min_periods=1).max()\n",
      "C:\\Users\\FRANKL~1\\AppData\\Local\\Temp/ipykernel_24776/3594732666.py:7: PerformanceWarning: DataFrame is highly fragmented.  This is usually the result of calling `frame.insert` many times, which has poor performance.  Consider joining all columns at once using pd.concat(axis=1) instead. To get a de-fragmented frame, use `newframe = frame.copy()`\n",
      "  output_df[f'{col}_kurtosis'] = output_df[col].rolling(window=window_size, min_periods=1).apply(kurtosis, raw=True)\n",
      "C:\\Users\\FRANKL~1\\AppData\\Local\\Temp/ipykernel_24776/3594732666.py:8: PerformanceWarning: DataFrame is highly fragmented.  This is usually the result of calling `frame.insert` many times, which has poor performance.  Consider joining all columns at once using pd.concat(axis=1) instead. To get a de-fragmented frame, use `newframe = frame.copy()`\n",
      "  output_df[f'{col}_skew'] = output_df[col].rolling(window=window_size, min_periods=1).apply(skew, raw=True)\n",
      "C:\\Users\\FRANKL~1\\AppData\\Local\\Temp/ipykernel_24776/3594732666.py:9: PerformanceWarning: DataFrame is highly fragmented.  This is usually the result of calling `frame.insert` many times, which has poor performance.  Consider joining all columns at once using pd.concat(axis=1) instead. To get a de-fragmented frame, use `newframe = frame.copy()`\n",
      "  output_df[f'{col}_zero_crossings'] = output_df[col].rolling(window=window_size, min_periods=1).apply(zero_crossings, raw=True)\n",
      "C:\\Users\\FRANKL~1\\AppData\\Local\\Temp/ipykernel_24776/3594732666.py:3: PerformanceWarning: DataFrame is highly fragmented.  This is usually the result of calling `frame.insert` many times, which has poor performance.  Consider joining all columns at once using pd.concat(axis=1) instead. To get a de-fragmented frame, use `newframe = frame.copy()`\n",
      "  output_df[f'{col}_mean'] = output_df[col].rolling(window=window_size, min_periods=1).mean()\n",
      "C:\\Users\\FRANKL~1\\AppData\\Local\\Temp/ipykernel_24776/3594732666.py:4: PerformanceWarning: DataFrame is highly fragmented.  This is usually the result of calling `frame.insert` many times, which has poor performance.  Consider joining all columns at once using pd.concat(axis=1) instead. To get a de-fragmented frame, use `newframe = frame.copy()`\n",
      "  output_df[f'{col}_std'] = output_df[col].rolling(window=window_size, min_periods=1).std()\n",
      "C:\\Users\\FRANKL~1\\AppData\\Local\\Temp/ipykernel_24776/3594732666.py:5: PerformanceWarning: DataFrame is highly fragmented.  This is usually the result of calling `frame.insert` many times, which has poor performance.  Consider joining all columns at once using pd.concat(axis=1) instead. To get a de-fragmented frame, use `newframe = frame.copy()`\n",
      "  output_df[f'{col}_min'] = output_df[col].rolling(window=window_size, min_periods=1).min()\n",
      "C:\\Users\\FRANKL~1\\AppData\\Local\\Temp/ipykernel_24776/3594732666.py:6: PerformanceWarning: DataFrame is highly fragmented.  This is usually the result of calling `frame.insert` many times, which has poor performance.  Consider joining all columns at once using pd.concat(axis=1) instead. To get a de-fragmented frame, use `newframe = frame.copy()`\n",
      "  output_df[f'{col}_max'] = output_df[col].rolling(window=window_size, min_periods=1).max()\n",
      "C:\\Users\\FRANKL~1\\AppData\\Local\\Temp/ipykernel_24776/3594732666.py:7: PerformanceWarning: DataFrame is highly fragmented.  This is usually the result of calling `frame.insert` many times, which has poor performance.  Consider joining all columns at once using pd.concat(axis=1) instead. To get a de-fragmented frame, use `newframe = frame.copy()`\n",
      "  output_df[f'{col}_kurtosis'] = output_df[col].rolling(window=window_size, min_periods=1).apply(kurtosis, raw=True)\n",
      "C:\\Users\\FRANKL~1\\AppData\\Local\\Temp/ipykernel_24776/3594732666.py:8: PerformanceWarning: DataFrame is highly fragmented.  This is usually the result of calling `frame.insert` many times, which has poor performance.  Consider joining all columns at once using pd.concat(axis=1) instead. To get a de-fragmented frame, use `newframe = frame.copy()`\n",
      "  output_df[f'{col}_skew'] = output_df[col].rolling(window=window_size, min_periods=1).apply(skew, raw=True)\n",
      "C:\\Users\\FRANKL~1\\AppData\\Local\\Temp/ipykernel_24776/3594732666.py:9: PerformanceWarning: DataFrame is highly fragmented.  This is usually the result of calling `frame.insert` many times, which has poor performance.  Consider joining all columns at once using pd.concat(axis=1) instead. To get a de-fragmented frame, use `newframe = frame.copy()`\n",
      "  output_df[f'{col}_zero_crossings'] = output_df[col].rolling(window=window_size, min_periods=1).apply(zero_crossings, raw=True)\n",
      "C:\\Users\\FRANKL~1\\AppData\\Local\\Temp/ipykernel_24776/3594732666.py:3: PerformanceWarning: DataFrame is highly fragmented.  This is usually the result of calling `frame.insert` many times, which has poor performance.  Consider joining all columns at once using pd.concat(axis=1) instead. To get a de-fragmented frame, use `newframe = frame.copy()`\n",
      "  output_df[f'{col}_mean'] = output_df[col].rolling(window=window_size, min_periods=1).mean()\n",
      "C:\\Users\\FRANKL~1\\AppData\\Local\\Temp/ipykernel_24776/3594732666.py:4: PerformanceWarning: DataFrame is highly fragmented.  This is usually the result of calling `frame.insert` many times, which has poor performance.  Consider joining all columns at once using pd.concat(axis=1) instead. To get a de-fragmented frame, use `newframe = frame.copy()`\n",
      "  output_df[f'{col}_std'] = output_df[col].rolling(window=window_size, min_periods=1).std()\n",
      "C:\\Users\\FRANKL~1\\AppData\\Local\\Temp/ipykernel_24776/3594732666.py:5: PerformanceWarning: DataFrame is highly fragmented.  This is usually the result of calling `frame.insert` many times, which has poor performance.  Consider joining all columns at once using pd.concat(axis=1) instead. To get a de-fragmented frame, use `newframe = frame.copy()`\n",
      "  output_df[f'{col}_min'] = output_df[col].rolling(window=window_size, min_periods=1).min()\n",
      "C:\\Users\\FRANKL~1\\AppData\\Local\\Temp/ipykernel_24776/3594732666.py:6: PerformanceWarning: DataFrame is highly fragmented.  This is usually the result of calling `frame.insert` many times, which has poor performance.  Consider joining all columns at once using pd.concat(axis=1) instead. To get a de-fragmented frame, use `newframe = frame.copy()`\n",
      "  output_df[f'{col}_max'] = output_df[col].rolling(window=window_size, min_periods=1).max()\n",
      "C:\\Users\\FRANKL~1\\AppData\\Local\\Temp/ipykernel_24776/3594732666.py:7: PerformanceWarning: DataFrame is highly fragmented.  This is usually the result of calling `frame.insert` many times, which has poor performance.  Consider joining all columns at once using pd.concat(axis=1) instead. To get a de-fragmented frame, use `newframe = frame.copy()`\n",
      "  output_df[f'{col}_kurtosis'] = output_df[col].rolling(window=window_size, min_periods=1).apply(kurtosis, raw=True)\n",
      "C:\\Users\\FRANKL~1\\AppData\\Local\\Temp/ipykernel_24776/3594732666.py:8: PerformanceWarning: DataFrame is highly fragmented.  This is usually the result of calling `frame.insert` many times, which has poor performance.  Consider joining all columns at once using pd.concat(axis=1) instead. To get a de-fragmented frame, use `newframe = frame.copy()`\n",
      "  output_df[f'{col}_skew'] = output_df[col].rolling(window=window_size, min_periods=1).apply(skew, raw=True)\n",
      "C:\\Users\\FRANKL~1\\AppData\\Local\\Temp/ipykernel_24776/3594732666.py:9: PerformanceWarning: DataFrame is highly fragmented.  This is usually the result of calling `frame.insert` many times, which has poor performance.  Consider joining all columns at once using pd.concat(axis=1) instead. To get a de-fragmented frame, use `newframe = frame.copy()`\n",
      "  output_df[f'{col}_zero_crossings'] = output_df[col].rolling(window=window_size, min_periods=1).apply(zero_crossings, raw=True)\n",
      "C:\\Users\\FRANKL~1\\AppData\\Local\\Temp/ipykernel_24776/3594732666.py:3: PerformanceWarning: DataFrame is highly fragmented.  This is usually the result of calling `frame.insert` many times, which has poor performance.  Consider joining all columns at once using pd.concat(axis=1) instead. To get a de-fragmented frame, use `newframe = frame.copy()`\n",
      "  output_df[f'{col}_mean'] = output_df[col].rolling(window=window_size, min_periods=1).mean()\n",
      "C:\\Users\\FRANKL~1\\AppData\\Local\\Temp/ipykernel_24776/3594732666.py:4: PerformanceWarning: DataFrame is highly fragmented.  This is usually the result of calling `frame.insert` many times, which has poor performance.  Consider joining all columns at once using pd.concat(axis=1) instead. To get a de-fragmented frame, use `newframe = frame.copy()`\n",
      "  output_df[f'{col}_std'] = output_df[col].rolling(window=window_size, min_periods=1).std()\n",
      "C:\\Users\\FRANKL~1\\AppData\\Local\\Temp/ipykernel_24776/3594732666.py:5: PerformanceWarning: DataFrame is highly fragmented.  This is usually the result of calling `frame.insert` many times, which has poor performance.  Consider joining all columns at once using pd.concat(axis=1) instead. To get a de-fragmented frame, use `newframe = frame.copy()`\n",
      "  output_df[f'{col}_min'] = output_df[col].rolling(window=window_size, min_periods=1).min()\n",
      "C:\\Users\\FRANKL~1\\AppData\\Local\\Temp/ipykernel_24776/3594732666.py:6: PerformanceWarning: DataFrame is highly fragmented.  This is usually the result of calling `frame.insert` many times, which has poor performance.  Consider joining all columns at once using pd.concat(axis=1) instead. To get a de-fragmented frame, use `newframe = frame.copy()`\n",
      "  output_df[f'{col}_max'] = output_df[col].rolling(window=window_size, min_periods=1).max()\n",
      "C:\\Users\\FRANKL~1\\AppData\\Local\\Temp/ipykernel_24776/3594732666.py:7: PerformanceWarning: DataFrame is highly fragmented.  This is usually the result of calling `frame.insert` many times, which has poor performance.  Consider joining all columns at once using pd.concat(axis=1) instead. To get a de-fragmented frame, use `newframe = frame.copy()`\n",
      "  output_df[f'{col}_kurtosis'] = output_df[col].rolling(window=window_size, min_periods=1).apply(kurtosis, raw=True)\n",
      "C:\\Users\\FRANKL~1\\AppData\\Local\\Temp/ipykernel_24776/3594732666.py:8: PerformanceWarning: DataFrame is highly fragmented.  This is usually the result of calling `frame.insert` many times, which has poor performance.  Consider joining all columns at once using pd.concat(axis=1) instead. To get a de-fragmented frame, use `newframe = frame.copy()`\n",
      "  output_df[f'{col}_skew'] = output_df[col].rolling(window=window_size, min_periods=1).apply(skew, raw=True)\n",
      "C:\\Users\\FRANKL~1\\AppData\\Local\\Temp/ipykernel_24776/3594732666.py:9: PerformanceWarning: DataFrame is highly fragmented.  This is usually the result of calling `frame.insert` many times, which has poor performance.  Consider joining all columns at once using pd.concat(axis=1) instead. To get a de-fragmented frame, use `newframe = frame.copy()`\n",
      "  output_df[f'{col}_zero_crossings'] = output_df[col].rolling(window=window_size, min_periods=1).apply(zero_crossings, raw=True)\n",
      "C:\\Users\\FRANKL~1\\AppData\\Local\\Temp/ipykernel_24776/3594732666.py:3: PerformanceWarning: DataFrame is highly fragmented.  This is usually the result of calling `frame.insert` many times, which has poor performance.  Consider joining all columns at once using pd.concat(axis=1) instead. To get a de-fragmented frame, use `newframe = frame.copy()`\n",
      "  output_df[f'{col}_mean'] = output_df[col].rolling(window=window_size, min_periods=1).mean()\n",
      "C:\\Users\\FRANKL~1\\AppData\\Local\\Temp/ipykernel_24776/3594732666.py:4: PerformanceWarning: DataFrame is highly fragmented.  This is usually the result of calling `frame.insert` many times, which has poor performance.  Consider joining all columns at once using pd.concat(axis=1) instead. To get a de-fragmented frame, use `newframe = frame.copy()`\n",
      "  output_df[f'{col}_std'] = output_df[col].rolling(window=window_size, min_periods=1).std()\n",
      "C:\\Users\\FRANKL~1\\AppData\\Local\\Temp/ipykernel_24776/3594732666.py:5: PerformanceWarning: DataFrame is highly fragmented.  This is usually the result of calling `frame.insert` many times, which has poor performance.  Consider joining all columns at once using pd.concat(axis=1) instead. To get a de-fragmented frame, use `newframe = frame.copy()`\n",
      "  output_df[f'{col}_min'] = output_df[col].rolling(window=window_size, min_periods=1).min()\n",
      "C:\\Users\\FRANKL~1\\AppData\\Local\\Temp/ipykernel_24776/3594732666.py:6: PerformanceWarning: DataFrame is highly fragmented.  This is usually the result of calling `frame.insert` many times, which has poor performance.  Consider joining all columns at once using pd.concat(axis=1) instead. To get a de-fragmented frame, use `newframe = frame.copy()`\n",
      "  output_df[f'{col}_max'] = output_df[col].rolling(window=window_size, min_periods=1).max()\n",
      "C:\\Users\\FRANKL~1\\AppData\\Local\\Temp/ipykernel_24776/3594732666.py:7: PerformanceWarning: DataFrame is highly fragmented.  This is usually the result of calling `frame.insert` many times, which has poor performance.  Consider joining all columns at once using pd.concat(axis=1) instead. To get a de-fragmented frame, use `newframe = frame.copy()`\n",
      "  output_df[f'{col}_kurtosis'] = output_df[col].rolling(window=window_size, min_periods=1).apply(kurtosis, raw=True)\n",
      "C:\\Users\\FRANKL~1\\AppData\\Local\\Temp/ipykernel_24776/3594732666.py:8: PerformanceWarning: DataFrame is highly fragmented.  This is usually the result of calling `frame.insert` many times, which has poor performance.  Consider joining all columns at once using pd.concat(axis=1) instead. To get a de-fragmented frame, use `newframe = frame.copy()`\n",
      "  output_df[f'{col}_skew'] = output_df[col].rolling(window=window_size, min_periods=1).apply(skew, raw=True)\n",
      "C:\\Users\\FRANKL~1\\AppData\\Local\\Temp/ipykernel_24776/3594732666.py:9: PerformanceWarning: DataFrame is highly fragmented.  This is usually the result of calling `frame.insert` many times, which has poor performance.  Consider joining all columns at once using pd.concat(axis=1) instead. To get a de-fragmented frame, use `newframe = frame.copy()`\n",
      "  output_df[f'{col}_zero_crossings'] = output_df[col].rolling(window=window_size, min_periods=1).apply(zero_crossings, raw=True)\n",
      "C:\\Users\\FRANKL~1\\AppData\\Local\\Temp/ipykernel_24776/3594732666.py:3: PerformanceWarning: DataFrame is highly fragmented.  This is usually the result of calling `frame.insert` many times, which has poor performance.  Consider joining all columns at once using pd.concat(axis=1) instead. To get a de-fragmented frame, use `newframe = frame.copy()`\n",
      "  output_df[f'{col}_mean'] = output_df[col].rolling(window=window_size, min_periods=1).mean()\n",
      "C:\\Users\\FRANKL~1\\AppData\\Local\\Temp/ipykernel_24776/3594732666.py:4: PerformanceWarning: DataFrame is highly fragmented.  This is usually the result of calling `frame.insert` many times, which has poor performance.  Consider joining all columns at once using pd.concat(axis=1) instead. To get a de-fragmented frame, use `newframe = frame.copy()`\n",
      "  output_df[f'{col}_std'] = output_df[col].rolling(window=window_size, min_periods=1).std()\n",
      "C:\\Users\\FRANKL~1\\AppData\\Local\\Temp/ipykernel_24776/3594732666.py:5: PerformanceWarning: DataFrame is highly fragmented.  This is usually the result of calling `frame.insert` many times, which has poor performance.  Consider joining all columns at once using pd.concat(axis=1) instead. To get a de-fragmented frame, use `newframe = frame.copy()`\n",
      "  output_df[f'{col}_min'] = output_df[col].rolling(window=window_size, min_periods=1).min()\n",
      "C:\\Users\\FRANKL~1\\AppData\\Local\\Temp/ipykernel_24776/3594732666.py:6: PerformanceWarning: DataFrame is highly fragmented.  This is usually the result of calling `frame.insert` many times, which has poor performance.  Consider joining all columns at once using pd.concat(axis=1) instead. To get a de-fragmented frame, use `newframe = frame.copy()`\n",
      "  output_df[f'{col}_max'] = output_df[col].rolling(window=window_size, min_periods=1).max()\n",
      "C:\\Users\\FRANKL~1\\AppData\\Local\\Temp/ipykernel_24776/3594732666.py:7: PerformanceWarning: DataFrame is highly fragmented.  This is usually the result of calling `frame.insert` many times, which has poor performance.  Consider joining all columns at once using pd.concat(axis=1) instead. To get a de-fragmented frame, use `newframe = frame.copy()`\n",
      "  output_df[f'{col}_kurtosis'] = output_df[col].rolling(window=window_size, min_periods=1).apply(kurtosis, raw=True)\n",
      "C:\\Users\\FRANKL~1\\AppData\\Local\\Temp/ipykernel_24776/3594732666.py:8: PerformanceWarning: DataFrame is highly fragmented.  This is usually the result of calling `frame.insert` many times, which has poor performance.  Consider joining all columns at once using pd.concat(axis=1) instead. To get a de-fragmented frame, use `newframe = frame.copy()`\n",
      "  output_df[f'{col}_skew'] = output_df[col].rolling(window=window_size, min_periods=1).apply(skew, raw=True)\n",
      "C:\\Users\\FRANKL~1\\AppData\\Local\\Temp/ipykernel_24776/3594732666.py:9: PerformanceWarning: DataFrame is highly fragmented.  This is usually the result of calling `frame.insert` many times, which has poor performance.  Consider joining all columns at once using pd.concat(axis=1) instead. To get a de-fragmented frame, use `newframe = frame.copy()`\n",
      "  output_df[f'{col}_zero_crossings'] = output_df[col].rolling(window=window_size, min_periods=1).apply(zero_crossings, raw=True)\n"
     ]
    }
   ],
   "source": [
    "window_size = 50\n",
    "for col in all_columns:\n",
    "    output_df[f'{col}_mean'] = output_df[col].rolling(window=window_size, min_periods=1).mean()\n",
    "    output_df[f'{col}_std'] = output_df[col].rolling(window=window_size, min_periods=1).std()\n",
    "    output_df[f'{col}_min'] = output_df[col].rolling(window=window_size, min_periods=1).min()\n",
    "    output_df[f'{col}_max'] = output_df[col].rolling(window=window_size, min_periods=1).max()\n",
    "    output_df[f'{col}_kurtosis'] = output_df[col].rolling(window=window_size, min_periods=1).apply(kurtosis, raw=True)\n",
    "    output_df[f'{col}_skew'] = output_df[col].rolling(window=window_size, min_periods=1).apply(skew, raw=True)\n",
    "    output_df[f'{col}_zero_crossings'] = output_df[col].rolling(window=window_size, min_periods=1).apply(zero_crossings, raw=True)\n"
   ]
  },
  {
   "cell_type": "code",
   "execution_count": 61,
   "id": "f7185706",
   "metadata": {},
   "outputs": [
    {
     "name": "stderr",
     "output_type": "stream",
     "text": [
      "C:\\Users\\FRANKL~1\\AppData\\Local\\Temp/ipykernel_24776/2413456766.py:2: PerformanceWarning: DataFrame is highly fragmented.  This is usually the result of calling `frame.insert` many times, which has poor performance.  Consider joining all columns at once using pd.concat(axis=1) instead. To get a de-fragmented frame, use `newframe = frame.copy()`\n",
      "  output_df['f_acc_norm'] = np.sqrt(output_df['f_acc_x']**2 + output_df['f_acc_y']**2 + output_df['f_acc_z']**2)\n",
      "C:\\Users\\FRANKL~1\\AppData\\Local\\Temp/ipykernel_24776/2413456766.py:3: PerformanceWarning: DataFrame is highly fragmented.  This is usually the result of calling `frame.insert` many times, which has poor performance.  Consider joining all columns at once using pd.concat(axis=1) instead. To get a de-fragmented frame, use `newframe = frame.copy()`\n",
      "  output_df['w_acc_norm'] = np.sqrt(output_df['w_acc_x']**2 + output_df['w_acc_y']**2 + output_df['w_acc_z']**2)\n",
      "C:\\Users\\FRANKL~1\\AppData\\Local\\Temp/ipykernel_24776/2413456766.py:4: PerformanceWarning: DataFrame is highly fragmented.  This is usually the result of calling `frame.insert` many times, which has poor performance.  Consider joining all columns at once using pd.concat(axis=1) instead. To get a de-fragmented frame, use `newframe = frame.copy()`\n",
      "  output_df['f_gyr_norm'] = np.sqrt(output_df['f_gyr_x']**2 + output_df['f_gyr_y']**2 + output_df['f_gyr_z']**2)\n",
      "C:\\Users\\FRANKL~1\\AppData\\Local\\Temp/ipykernel_24776/2413456766.py:5: PerformanceWarning: DataFrame is highly fragmented.  This is usually the result of calling `frame.insert` many times, which has poor performance.  Consider joining all columns at once using pd.concat(axis=1) instead. To get a de-fragmented frame, use `newframe = frame.copy()`\n",
      "  output_df['w_gyr_norm'] = np.sqrt(output_df['w_gyr_x']**2 + output_df['w_gyr_y']**2 + output_df['w_gyr_z']**2)\n"
     ]
    }
   ],
   "source": [
    "# 计算加速度和陀螺仪的模并添加到原DataFrame中\n",
    "output_df['f_acc_norm'] = np.sqrt(output_df['f_acc_x']**2 + output_df['f_acc_y']**2 + output_df['f_acc_z']**2)\n",
    "output_df['w_acc_norm'] = np.sqrt(output_df['w_acc_x']**2 + output_df['w_acc_y']**2 + output_df['w_acc_z']**2)\n",
    "output_df['f_gyr_norm'] = np.sqrt(output_df['f_gyr_x']**2 + output_df['f_gyr_y']**2 + output_df['f_gyr_z']**2)\n",
    "output_df['w_gyr_norm'] = np.sqrt(output_df['w_gyr_x']**2 + output_df['w_gyr_y']**2 + output_df['w_gyr_z']**2)\n"
   ]
  },
  {
   "cell_type": "code",
   "execution_count": 62,
   "id": "bcb00459",
   "metadata": {},
   "outputs": [
    {
     "name": "stderr",
     "output_type": "stream",
     "text": [
      "C:\\Users\\FRANKL~1\\AppData\\Local\\Temp/ipykernel_24776/1287421568.py:2: PerformanceWarning: DataFrame is highly fragmented.  This is usually the result of calling `frame.insert` many times, which has poor performance.  Consider joining all columns at once using pd.concat(axis=1) instead. To get a de-fragmented frame, use `newframe = frame.copy()`\n",
      "  output_df['hr_mean'] = output_df['hr'].rolling(window=window_size, min_periods=1).mean()\n",
      "C:\\Users\\FRANKL~1\\AppData\\Local\\Temp/ipykernel_24776/1287421568.py:3: PerformanceWarning: DataFrame is highly fragmented.  This is usually the result of calling `frame.insert` many times, which has poor performance.  Consider joining all columns at once using pd.concat(axis=1) instead. To get a de-fragmented frame, use `newframe = frame.copy()`\n",
      "  output_df['hr_std'] = output_df['hr'].rolling(window=window_size, min_periods=1).std()\n",
      "C:\\Users\\FRANKL~1\\AppData\\Local\\Temp/ipykernel_24776/1287421568.py:4: PerformanceWarning: DataFrame is highly fragmented.  This is usually the result of calling `frame.insert` many times, which has poor performance.  Consider joining all columns at once using pd.concat(axis=1) instead. To get a de-fragmented frame, use `newframe = frame.copy()`\n",
      "  output_df['hr_min'] = output_df['hr'].rolling(window=window_size, min_periods=1).min()\n",
      "C:\\Users\\FRANKL~1\\AppData\\Local\\Temp/ipykernel_24776/1287421568.py:5: PerformanceWarning: DataFrame is highly fragmented.  This is usually the result of calling `frame.insert` many times, which has poor performance.  Consider joining all columns at once using pd.concat(axis=1) instead. To get a de-fragmented frame, use `newframe = frame.copy()`\n",
      "  output_df['hr_max'] = output_df['hr'].rolling(window=window_size, min_periods=1).max()\n",
      "C:\\Users\\FRANKL~1\\AppData\\Local\\Temp/ipykernel_24776/1287421568.py:6: PerformanceWarning: DataFrame is highly fragmented.  This is usually the result of calling `frame.insert` many times, which has poor performance.  Consider joining all columns at once using pd.concat(axis=1) instead. To get a de-fragmented frame, use `newframe = frame.copy()`\n",
      "  output_df['hr_kurtosis'] = output_df['hr'].rolling(window=window_size, min_periods=1).apply(kurtosis, raw=True)\n",
      "C:\\Users\\FRANKL~1\\AppData\\Local\\Temp/ipykernel_24776/1287421568.py:7: PerformanceWarning: DataFrame is highly fragmented.  This is usually the result of calling `frame.insert` many times, which has poor performance.  Consider joining all columns at once using pd.concat(axis=1) instead. To get a de-fragmented frame, use `newframe = frame.copy()`\n",
      "  output_df['hr_skew'] = output_df['hr'].rolling(window=window_size, min_periods=1).apply(skew, raw=True)\n",
      "C:\\Users\\FRANKL~1\\AppData\\Local\\Temp/ipykernel_24776/1287421568.py:8: PerformanceWarning: DataFrame is highly fragmented.  This is usually the result of calling `frame.insert` many times, which has poor performance.  Consider joining all columns at once using pd.concat(axis=1) instead. To get a de-fragmented frame, use `newframe = frame.copy()`\n",
      "  output_df['hr_zero_crossings'] = output_df['hr'].rolling(window=window_size, min_periods=1).apply(zero_crossings, raw=True)\n"
     ]
    }
   ],
   "source": [
    "output_df['hr_mean'] = output_df['hr'].rolling(window=window_size, min_periods=1).mean()\n",
    "output_df['hr_std'] = output_df['hr'].rolling(window=window_size, min_periods=1).std()\n",
    "output_df['hr_min'] = output_df['hr'].rolling(window=window_size, min_periods=1).min()\n",
    "output_df['hr_max'] = output_df['hr'].rolling(window=window_size, min_periods=1).max()\n",
    "output_df['hr_kurtosis'] = output_df['hr'].rolling(window=window_size, min_periods=1).apply(kurtosis, raw=True)\n",
    "output_df['hr_skew'] = output_df['hr'].rolling(window=window_size, min_periods=1).apply(skew, raw=True)\n",
    "output_df['hr_zero_crossings'] = output_df['hr'].rolling(window=window_size, min_periods=1).apply(zero_crossings, raw=True)\n"
   ]
  },
  {
   "cell_type": "code",
   "execution_count": 63,
   "id": "ee1dbae5",
   "metadata": {},
   "outputs": [
    {
     "name": "stderr",
     "output_type": "stream",
     "text": [
      "C:\\Users\\FRANKL~1\\AppData\\Local\\Temp/ipykernel_24776/2777090910.py:3: RuntimeWarning: Mean of empty slice.\n",
      "  return np.abs(fft_coeff[:len(fft_coeff)//2]).mean()  # 只保留前半部分系数的均值\n",
      "C:\\Users\\FRANKL~1\\AppData\\Local\\Temp/ipykernel_24776/956816177.py:3: PerformanceWarning: DataFrame is highly fragmented.  This is usually the result of calling `frame.insert` many times, which has poor performance.  Consider joining all columns at once using pd.concat(axis=1) instead. To get a de-fragmented frame, use `newframe = frame.copy()`\n",
      "  output_df[f'{col}_fft_mean'] = output_df[col].rolling(window=window_size, min_periods=1).apply(lambda x: fft_features(x), raw=True)\n",
      "C:\\Users\\FRANKL~1\\AppData\\Local\\Temp/ipykernel_24776/2777090910.py:3: RuntimeWarning: Mean of empty slice.\n",
      "  return np.abs(fft_coeff[:len(fft_coeff)//2]).mean()  # 只保留前半部分系数的均值\n",
      "C:\\Users\\FRANKL~1\\AppData\\Local\\Temp/ipykernel_24776/956816177.py:3: PerformanceWarning: DataFrame is highly fragmented.  This is usually the result of calling `frame.insert` many times, which has poor performance.  Consider joining all columns at once using pd.concat(axis=1) instead. To get a de-fragmented frame, use `newframe = frame.copy()`\n",
      "  output_df[f'{col}_fft_mean'] = output_df[col].rolling(window=window_size, min_periods=1).apply(lambda x: fft_features(x), raw=True)\n",
      "C:\\Users\\FRANKL~1\\AppData\\Local\\Temp/ipykernel_24776/2777090910.py:3: RuntimeWarning: Mean of empty slice.\n",
      "  return np.abs(fft_coeff[:len(fft_coeff)//2]).mean()  # 只保留前半部分系数的均值\n",
      "C:\\Users\\FRANKL~1\\AppData\\Local\\Temp/ipykernel_24776/956816177.py:3: PerformanceWarning: DataFrame is highly fragmented.  This is usually the result of calling `frame.insert` many times, which has poor performance.  Consider joining all columns at once using pd.concat(axis=1) instead. To get a de-fragmented frame, use `newframe = frame.copy()`\n",
      "  output_df[f'{col}_fft_mean'] = output_df[col].rolling(window=window_size, min_periods=1).apply(lambda x: fft_features(x), raw=True)\n",
      "C:\\Users\\FRANKL~1\\AppData\\Local\\Temp/ipykernel_24776/2777090910.py:3: RuntimeWarning: Mean of empty slice.\n",
      "  return np.abs(fft_coeff[:len(fft_coeff)//2]).mean()  # 只保留前半部分系数的均值\n",
      "C:\\Users\\FRANKL~1\\AppData\\Local\\Temp/ipykernel_24776/956816177.py:3: PerformanceWarning: DataFrame is highly fragmented.  This is usually the result of calling `frame.insert` many times, which has poor performance.  Consider joining all columns at once using pd.concat(axis=1) instead. To get a de-fragmented frame, use `newframe = frame.copy()`\n",
      "  output_df[f'{col}_fft_mean'] = output_df[col].rolling(window=window_size, min_periods=1).apply(lambda x: fft_features(x), raw=True)\n",
      "C:\\Users\\FRANKL~1\\AppData\\Local\\Temp/ipykernel_24776/2777090910.py:3: RuntimeWarning: Mean of empty slice.\n",
      "  return np.abs(fft_coeff[:len(fft_coeff)//2]).mean()  # 只保留前半部分系数的均值\n",
      "C:\\Users\\FRANKL~1\\AppData\\Local\\Temp/ipykernel_24776/956816177.py:3: PerformanceWarning: DataFrame is highly fragmented.  This is usually the result of calling `frame.insert` many times, which has poor performance.  Consider joining all columns at once using pd.concat(axis=1) instead. To get a de-fragmented frame, use `newframe = frame.copy()`\n",
      "  output_df[f'{col}_fft_mean'] = output_df[col].rolling(window=window_size, min_periods=1).apply(lambda x: fft_features(x), raw=True)\n",
      "C:\\Users\\FRANKL~1\\AppData\\Local\\Temp/ipykernel_24776/2777090910.py:3: RuntimeWarning: Mean of empty slice.\n",
      "  return np.abs(fft_coeff[:len(fft_coeff)//2]).mean()  # 只保留前半部分系数的均值\n",
      "C:\\Users\\FRANKL~1\\AppData\\Local\\Temp/ipykernel_24776/956816177.py:3: PerformanceWarning: DataFrame is highly fragmented.  This is usually the result of calling `frame.insert` many times, which has poor performance.  Consider joining all columns at once using pd.concat(axis=1) instead. To get a de-fragmented frame, use `newframe = frame.copy()`\n",
      "  output_df[f'{col}_fft_mean'] = output_df[col].rolling(window=window_size, min_periods=1).apply(lambda x: fft_features(x), raw=True)\n",
      "C:\\Users\\FRANKL~1\\AppData\\Local\\Temp/ipykernel_24776/2777090910.py:3: RuntimeWarning: Mean of empty slice.\n",
      "  return np.abs(fft_coeff[:len(fft_coeff)//2]).mean()  # 只保留前半部分系数的均值\n",
      "C:\\Users\\FRANKL~1\\AppData\\Local\\Temp/ipykernel_24776/956816177.py:3: PerformanceWarning: DataFrame is highly fragmented.  This is usually the result of calling `frame.insert` many times, which has poor performance.  Consider joining all columns at once using pd.concat(axis=1) instead. To get a de-fragmented frame, use `newframe = frame.copy()`\n",
      "  output_df[f'{col}_fft_mean'] = output_df[col].rolling(window=window_size, min_periods=1).apply(lambda x: fft_features(x), raw=True)\n",
      "C:\\Users\\FRANKL~1\\AppData\\Local\\Temp/ipykernel_24776/2777090910.py:3: RuntimeWarning: Mean of empty slice.\n",
      "  return np.abs(fft_coeff[:len(fft_coeff)//2]).mean()  # 只保留前半部分系数的均值\n",
      "C:\\Users\\FRANKL~1\\AppData\\Local\\Temp/ipykernel_24776/956816177.py:3: PerformanceWarning: DataFrame is highly fragmented.  This is usually the result of calling `frame.insert` many times, which has poor performance.  Consider joining all columns at once using pd.concat(axis=1) instead. To get a de-fragmented frame, use `newframe = frame.copy()`\n",
      "  output_df[f'{col}_fft_mean'] = output_df[col].rolling(window=window_size, min_periods=1).apply(lambda x: fft_features(x), raw=True)\n",
      "C:\\Users\\FRANKL~1\\AppData\\Local\\Temp/ipykernel_24776/2777090910.py:3: RuntimeWarning: Mean of empty slice.\n",
      "  return np.abs(fft_coeff[:len(fft_coeff)//2]).mean()  # 只保留前半部分系数的均值\n",
      "C:\\Users\\FRANKL~1\\AppData\\Local\\Temp/ipykernel_24776/956816177.py:3: PerformanceWarning: DataFrame is highly fragmented.  This is usually the result of calling `frame.insert` many times, which has poor performance.  Consider joining all columns at once using pd.concat(axis=1) instead. To get a de-fragmented frame, use `newframe = frame.copy()`\n",
      "  output_df[f'{col}_fft_mean'] = output_df[col].rolling(window=window_size, min_periods=1).apply(lambda x: fft_features(x), raw=True)\n",
      "C:\\Users\\FRANKL~1\\AppData\\Local\\Temp/ipykernel_24776/2777090910.py:3: RuntimeWarning: Mean of empty slice.\n",
      "  return np.abs(fft_coeff[:len(fft_coeff)//2]).mean()  # 只保留前半部分系数的均值\n",
      "C:\\Users\\FRANKL~1\\AppData\\Local\\Temp/ipykernel_24776/956816177.py:3: PerformanceWarning: DataFrame is highly fragmented.  This is usually the result of calling `frame.insert` many times, which has poor performance.  Consider joining all columns at once using pd.concat(axis=1) instead. To get a de-fragmented frame, use `newframe = frame.copy()`\n",
      "  output_df[f'{col}_fft_mean'] = output_df[col].rolling(window=window_size, min_periods=1).apply(lambda x: fft_features(x), raw=True)\n",
      "C:\\Users\\FRANKL~1\\AppData\\Local\\Temp/ipykernel_24776/2777090910.py:3: RuntimeWarning: Mean of empty slice.\n",
      "  return np.abs(fft_coeff[:len(fft_coeff)//2]).mean()  # 只保留前半部分系数的均值\n",
      "C:\\Users\\FRANKL~1\\AppData\\Local\\Temp/ipykernel_24776/956816177.py:3: PerformanceWarning: DataFrame is highly fragmented.  This is usually the result of calling `frame.insert` many times, which has poor performance.  Consider joining all columns at once using pd.concat(axis=1) instead. To get a de-fragmented frame, use `newframe = frame.copy()`\n",
      "  output_df[f'{col}_fft_mean'] = output_df[col].rolling(window=window_size, min_periods=1).apply(lambda x: fft_features(x), raw=True)\n",
      "C:\\Users\\FRANKL~1\\AppData\\Local\\Temp/ipykernel_24776/2777090910.py:3: RuntimeWarning: Mean of empty slice.\n",
      "  return np.abs(fft_coeff[:len(fft_coeff)//2]).mean()  # 只保留前半部分系数的均值\n",
      "C:\\Users\\FRANKL~1\\AppData\\Local\\Temp/ipykernel_24776/956816177.py:3: PerformanceWarning: DataFrame is highly fragmented.  This is usually the result of calling `frame.insert` many times, which has poor performance.  Consider joining all columns at once using pd.concat(axis=1) instead. To get a de-fragmented frame, use `newframe = frame.copy()`\n",
      "  output_df[f'{col}_fft_mean'] = output_df[col].rolling(window=window_size, min_periods=1).apply(lambda x: fft_features(x), raw=True)\n",
      "C:\\Users\\FRANKL~1\\AppData\\Local\\Temp/ipykernel_24776/2777090910.py:3: RuntimeWarning: Mean of empty slice.\n",
      "  return np.abs(fft_coeff[:len(fft_coeff)//2]).mean()  # 只保留前半部分系数的均值\n",
      "C:\\Users\\FRANKL~1\\AppData\\Local\\Temp/ipykernel_24776/956816177.py:3: PerformanceWarning: DataFrame is highly fragmented.  This is usually the result of calling `frame.insert` many times, which has poor performance.  Consider joining all columns at once using pd.concat(axis=1) instead. To get a de-fragmented frame, use `newframe = frame.copy()`\n",
      "  output_df[f'{col}_fft_mean'] = output_df[col].rolling(window=window_size, min_periods=1).apply(lambda x: fft_features(x), raw=True)\n",
      "C:\\Users\\FRANKL~1\\AppData\\Local\\Temp/ipykernel_24776/2777090910.py:3: RuntimeWarning: Mean of empty slice.\n",
      "  return np.abs(fft_coeff[:len(fft_coeff)//2]).mean()  # 只保留前半部分系数的均值\n",
      "C:\\Users\\FRANKL~1\\AppData\\Local\\Temp/ipykernel_24776/956816177.py:3: PerformanceWarning: DataFrame is highly fragmented.  This is usually the result of calling `frame.insert` many times, which has poor performance.  Consider joining all columns at once using pd.concat(axis=1) instead. To get a de-fragmented frame, use `newframe = frame.copy()`\n",
      "  output_df[f'{col}_fft_mean'] = output_df[col].rolling(window=window_size, min_periods=1).apply(lambda x: fft_features(x), raw=True)\n",
      "C:\\Users\\FRANKL~1\\AppData\\Local\\Temp/ipykernel_24776/2777090910.py:3: RuntimeWarning: Mean of empty slice.\n",
      "  return np.abs(fft_coeff[:len(fft_coeff)//2]).mean()  # 只保留前半部分系数的均值\n",
      "C:\\Users\\FRANKL~1\\AppData\\Local\\Temp/ipykernel_24776/956816177.py:3: PerformanceWarning: DataFrame is highly fragmented.  This is usually the result of calling `frame.insert` many times, which has poor performance.  Consider joining all columns at once using pd.concat(axis=1) instead. To get a de-fragmented frame, use `newframe = frame.copy()`\n",
      "  output_df[f'{col}_fft_mean'] = output_df[col].rolling(window=window_size, min_periods=1).apply(lambda x: fft_features(x), raw=True)\n",
      "C:\\Users\\FRANKL~1\\AppData\\Local\\Temp/ipykernel_24776/2777090910.py:3: RuntimeWarning: Mean of empty slice.\n",
      "  return np.abs(fft_coeff[:len(fft_coeff)//2]).mean()  # 只保留前半部分系数的均值\n",
      "C:\\Users\\FRANKL~1\\AppData\\Local\\Temp/ipykernel_24776/956816177.py:3: PerformanceWarning: DataFrame is highly fragmented.  This is usually the result of calling `frame.insert` many times, which has poor performance.  Consider joining all columns at once using pd.concat(axis=1) instead. To get a de-fragmented frame, use `newframe = frame.copy()`\n",
      "  output_df[f'{col}_fft_mean'] = output_df[col].rolling(window=window_size, min_periods=1).apply(lambda x: fft_features(x), raw=True)\n",
      "C:\\Users\\FRANKL~1\\AppData\\Local\\Temp/ipykernel_24776/2777090910.py:3: RuntimeWarning: Mean of empty slice.\n",
      "  return np.abs(fft_coeff[:len(fft_coeff)//2]).mean()  # 只保留前半部分系数的均值\n",
      "C:\\Users\\FRANKL~1\\AppData\\Local\\Temp/ipykernel_24776/956816177.py:3: PerformanceWarning: DataFrame is highly fragmented.  This is usually the result of calling `frame.insert` many times, which has poor performance.  Consider joining all columns at once using pd.concat(axis=1) instead. To get a de-fragmented frame, use `newframe = frame.copy()`\n",
      "  output_df[f'{col}_fft_mean'] = output_df[col].rolling(window=window_size, min_periods=1).apply(lambda x: fft_features(x), raw=True)\n",
      "C:\\Users\\FRANKL~1\\AppData\\Local\\Temp/ipykernel_24776/2777090910.py:3: RuntimeWarning: Mean of empty slice.\n",
      "  return np.abs(fft_coeff[:len(fft_coeff)//2]).mean()  # 只保留前半部分系数的均值\n",
      "C:\\Users\\FRANKL~1\\AppData\\Local\\Temp/ipykernel_24776/956816177.py:3: PerformanceWarning: DataFrame is highly fragmented.  This is usually the result of calling `frame.insert` many times, which has poor performance.  Consider joining all columns at once using pd.concat(axis=1) instead. To get a de-fragmented frame, use `newframe = frame.copy()`\n",
      "  output_df[f'{col}_fft_mean'] = output_df[col].rolling(window=window_size, min_periods=1).apply(lambda x: fft_features(x), raw=True)\n",
      "C:\\Users\\FRANKL~1\\AppData\\Local\\Temp/ipykernel_24776/2777090910.py:3: RuntimeWarning: Mean of empty slice.\n",
      "  return np.abs(fft_coeff[:len(fft_coeff)//2]).mean()  # 只保留前半部分系数的均值\n",
      "C:\\Users\\FRANKL~1\\AppData\\Local\\Temp/ipykernel_24776/956816177.py:3: PerformanceWarning: DataFrame is highly fragmented.  This is usually the result of calling `frame.insert` many times, which has poor performance.  Consider joining all columns at once using pd.concat(axis=1) instead. To get a de-fragmented frame, use `newframe = frame.copy()`\n",
      "  output_df[f'{col}_fft_mean'] = output_df[col].rolling(window=window_size, min_periods=1).apply(lambda x: fft_features(x), raw=True)\n",
      "C:\\Users\\FRANKL~1\\AppData\\Local\\Temp/ipykernel_24776/2777090910.py:3: RuntimeWarning: Mean of empty slice.\n",
      "  return np.abs(fft_coeff[:len(fft_coeff)//2]).mean()  # 只保留前半部分系数的均值\n",
      "C:\\Users\\FRANKL~1\\AppData\\Local\\Temp/ipykernel_24776/956816177.py:3: PerformanceWarning: DataFrame is highly fragmented.  This is usually the result of calling `frame.insert` many times, which has poor performance.  Consider joining all columns at once using pd.concat(axis=1) instead. To get a de-fragmented frame, use `newframe = frame.copy()`\n",
      "  output_df[f'{col}_fft_mean'] = output_df[col].rolling(window=window_size, min_periods=1).apply(lambda x: fft_features(x), raw=True)\n",
      "C:\\Users\\FRANKL~1\\AppData\\Local\\Temp/ipykernel_24776/2777090910.py:3: RuntimeWarning: Mean of empty slice.\n",
      "  return np.abs(fft_coeff[:len(fft_coeff)//2]).mean()  # 只保留前半部分系数的均值\n",
      "C:\\Users\\FRANKL~1\\AppData\\Local\\Temp/ipykernel_24776/956816177.py:3: PerformanceWarning: DataFrame is highly fragmented.  This is usually the result of calling `frame.insert` many times, which has poor performance.  Consider joining all columns at once using pd.concat(axis=1) instead. To get a de-fragmented frame, use `newframe = frame.copy()`\n",
      "  output_df[f'{col}_fft_mean'] = output_df[col].rolling(window=window_size, min_periods=1).apply(lambda x: fft_features(x), raw=True)\n",
      "C:\\Users\\FRANKL~1\\AppData\\Local\\Temp/ipykernel_24776/2777090910.py:3: RuntimeWarning: Mean of empty slice.\n",
      "  return np.abs(fft_coeff[:len(fft_coeff)//2]).mean()  # 只保留前半部分系数的均值\n",
      "C:\\Users\\FRANKL~1\\AppData\\Local\\Temp/ipykernel_24776/956816177.py:3: PerformanceWarning: DataFrame is highly fragmented.  This is usually the result of calling `frame.insert` many times, which has poor performance.  Consider joining all columns at once using pd.concat(axis=1) instead. To get a de-fragmented frame, use `newframe = frame.copy()`\n",
      "  output_df[f'{col}_fft_mean'] = output_df[col].rolling(window=window_size, min_periods=1).apply(lambda x: fft_features(x), raw=True)\n",
      "C:\\Users\\FRANKL~1\\AppData\\Local\\Temp/ipykernel_24776/2777090910.py:3: RuntimeWarning: Mean of empty slice.\n",
      "  return np.abs(fft_coeff[:len(fft_coeff)//2]).mean()  # 只保留前半部分系数的均值\n",
      "C:\\Users\\FRANKL~1\\AppData\\Local\\Temp/ipykernel_24776/956816177.py:3: PerformanceWarning: DataFrame is highly fragmented.  This is usually the result of calling `frame.insert` many times, which has poor performance.  Consider joining all columns at once using pd.concat(axis=1) instead. To get a de-fragmented frame, use `newframe = frame.copy()`\n",
      "  output_df[f'{col}_fft_mean'] = output_df[col].rolling(window=window_size, min_periods=1).apply(lambda x: fft_features(x), raw=True)\n",
      "C:\\Users\\FRANKL~1\\AppData\\Local\\Temp/ipykernel_24776/2777090910.py:3: RuntimeWarning: Mean of empty slice.\n",
      "  return np.abs(fft_coeff[:len(fft_coeff)//2]).mean()  # 只保留前半部分系数的均值\n",
      "C:\\Users\\FRANKL~1\\AppData\\Local\\Temp/ipykernel_24776/956816177.py:3: PerformanceWarning: DataFrame is highly fragmented.  This is usually the result of calling `frame.insert` many times, which has poor performance.  Consider joining all columns at once using pd.concat(axis=1) instead. To get a de-fragmented frame, use `newframe = frame.copy()`\n",
      "  output_df[f'{col}_fft_mean'] = output_df[col].rolling(window=window_size, min_periods=1).apply(lambda x: fft_features(x), raw=True)\n"
     ]
    }
   ],
   "source": [
    "for col in all_columns:\n",
    "    output_df[f'{col}_fft_mean'] = output_df[col].rolling(window=window_size, min_periods=1).apply(lambda x: fft_features(x), raw=True)\n"
   ]
  },
  {
   "cell_type": "code",
   "execution_count": 69,
   "id": "620f9a3e",
   "metadata": {
    "scrolled": true
   },
   "outputs": [
    {
     "name": "stdout",
     "output_type": "stream",
     "text": [
      "      Unnamed: 0     hr   f_acc_x   f_acc_y   f_acc_z   f_gyr_x   f_gyr_y  \\\n",
      "0  1717788245600  112.0  6.098917 -2.142345  7.317383  0.005079 -0.059492   \n",
      "1  1717788245700  112.0  6.145470 -1.760938  7.425608  0.003556 -0.087058   \n",
      "2  1717788245800  112.0  6.150560 -1.911375  7.400910 -0.000865 -0.104507   \n",
      "3  1717788245900  112.0  6.146518 -1.787283  7.288344  0.004800 -0.129291   \n",
      "4  1717788246000  112.0  6.264323 -2.213297  7.088958  0.019771 -0.244786   \n",
      "\n",
      "    f_gyr_z   f_loc_h   f_loc_v  ...  f_loc_d_fft_mean  w_loc_h_fft_mean  \\\n",
      "0 -0.016369  0.165778  1.978385  ...               NaN               NaN   \n",
      "1 -0.031184  0.165778  1.978385  ...        683.689270            5.9628   \n",
      "2 -0.042368  1.533325  1.978385  ...       1025.533905            8.9442   \n",
      "3 -0.041913  2.900873  1.978385  ...        683.689270            5.9628   \n",
      "4 -0.086265  4.268420  1.978385  ...        854.611588            7.4535   \n",
      "\n",
      "   w_loc_v_fft_mean  w_loc_d_fft_mean  f_mag_x_fft_mean  f_mag_y_fft_mean  \\\n",
      "0               NaN               NaN               NaN               NaN   \n",
      "1               0.0         20.200001         69.707558         46.328796   \n",
      "2               0.0         30.300001        105.224304         69.676758   \n",
      "3               0.0         20.200001         71.074202         46.434985   \n",
      "4               0.0         25.250001         89.472844         58.020880   \n",
      "\n",
      "   f_mag_z_fft_mean  w_mag_x_fft_mean  w_mag_y_fft_mean  w_mag_z_fft_mean  \n",
      "0               NaN               NaN               NaN               NaN  \n",
      "1         42.626530         19.612501          5.962500         90.150002  \n",
      "2         64.554329         29.418752          8.943750        135.225002  \n",
      "3         43.324776         19.612501          5.962500         90.150002  \n",
      "4         53.791970         24.869969          8.199759        112.727661  \n",
      "\n",
      "[5 rows x 230 columns]\n"
     ]
    }
   ],
   "source": [
    "print(output_df.head())\n",
    "rows_with_nan = output_df[output_df.isna().any(axis=1)]\n",
    "\n",
    "output_df = output_df.dropna()"
   ]
  },
  {
   "cell_type": "code",
   "execution_count": 70,
   "id": "8b4d90b4",
   "metadata": {},
   "outputs": [],
   "source": [
    "# X = output_df.drop(['act', 'Unnamed: 0', 'f_acc_x','f_acc_y', 'f_acc_z', 'f_gyr_x','f_gyr_y','f_gyr_z'], axis=1) # features\n",
    "X = output_df.drop(['act', 'Unnamed: 0', 'w_loc_h','w_loc_v','w_loc_d'], axis=1) # features\n",
    "# X = output_df[['hr', 'f_acc_x','f_acc_y', 'f_acc_z', 'f_gyr_x','f_gyr_y','f_gyr_z','f_mag_x', 'f_mag_y', 'f_mag_z','f_loc_h','f_loc_v','f_loc_d','w_gyr_x','w_gyr_y','w_gyr_z','w_acc_x','w_acc_y','w_acc_z','w_mag_x', 'w_mag_y','w_mag_z']]\n",
    "y = output_df['act'] # label'\n",
    "# 'f_loc_h','f_loc_v','f_loc_d' 没用 'w_loc_h','w_loc_v','w_loc_d'\n"
   ]
  },
  {
   "cell_type": "code",
   "execution_count": 77,
   "id": "e97daa3c",
   "metadata": {},
   "outputs": [],
   "source": [
    "X_train, X_test, y_train, y_test = train_test_split(X, y, test_size=0.2, random_state=42)"
   ]
  },
  {
   "cell_type": "code",
   "execution_count": 79,
   "id": "4516e45a",
   "metadata": {},
   "outputs": [
    {
     "name": "stdout",
     "output_type": "stream",
     "text": [
      "Number of features before selection: 225\n",
      "Number of features after selection: 64\n",
      "Selected features: ['f_loc_v', 'f_acc_x_mean', 'f_acc_x_std', 'f_acc_y_zero_crossings', 'w_acc_x_mean', 'w_acc_x_min', 'w_acc_x_max', 'w_acc_y_mean', 'w_acc_y_max', 'w_acc_y_zero_crossings', 'w_acc_z_mean', 'w_acc_z_max', 'w_acc_z_zero_crossings', 'f_gyr_x_mean', 'f_gyr_x_max', 'f_gyr_x_skew', 'f_gyr_y_mean', 'f_gyr_y_max', 'f_gyr_z_mean', 'f_gyr_z_max', 'w_gyr_x_min', 'w_gyr_y_mean', 'w_gyr_y_min', 'f_loc_v_mean', 'f_loc_v_min', 'f_loc_v_max', 'w_loc_h_max', 'w_loc_v_mean', 'w_loc_v_min', 'w_loc_d_mean', 'w_loc_d_std', 'w_loc_d_min', 'w_loc_d_max', 'f_mag_x_mean', 'f_mag_x_std', 'f_mag_x_min', 'f_mag_x_max', 'f_mag_y_std', 'f_mag_y_min', 'f_mag_y_max', 'f_mag_y_zero_crossings', 'f_mag_z_mean', 'f_mag_z_std', 'f_mag_z_min', 'f_mag_z_max', 'w_mag_x_mean', 'w_mag_x_min', 'w_mag_x_max', 'w_mag_y_min', 'w_mag_z_mean', 'w_mag_z_std', 'w_mag_z_min', 'w_mag_z_max', 'w_mag_z_zero_crossings', 'hr_max', 'f_acc_x_fft_mean', 'w_acc_z_fft_mean', 'f_gyr_z_fft_mean', 'f_loc_v_fft_mean', 'w_loc_h_fft_mean', 'w_loc_d_fft_mean', 'f_mag_x_fft_mean', 'f_mag_z_fft_mean', 'w_mag_z_fft_mean']\n"
     ]
    },
    {
     "name": "stderr",
     "output_type": "stream",
     "text": [
      "D:\\anaocnda\\lib\\site-packages\\sklearn\\base.py:432: UserWarning: X has feature names, but SelectFromModel was fitted without feature names\n",
      "  warnings.warn(\n",
      "D:\\anaocnda\\lib\\site-packages\\sklearn\\base.py:432: UserWarning: X has feature names, but SelectFromModel was fitted without feature names\n",
      "  warnings.warn(\n"
     ]
    }
   ],
   "source": [
    "\n",
    "rf = RandomForestClassifier(n_estimators=100, random_state=42)\n",
    "rf.fit(X_train, y_train)\n",
    "\n",
    "\n",
    "selector = SelectFromModel(rf, threshold='mean', prefit=True)\n",
    "X_train_selected = selector.transform(X_train)\n",
    "X_test_selected = selector.transform(X_test)\n",
    "\n",
    "\n",
    "selected_features = X.columns[selector.get_support()]\n",
    "print(\"Number of features before selection:\", X.shape[1])\n",
    "print(\"Number of features after selection:\", X_train_selected.shape[1])\n",
    "print(\"Selected features:\", selected_features.tolist())"
   ]
  },
  {
   "cell_type": "code",
   "execution_count": 80,
   "id": "bcc14e06",
   "metadata": {
    "scrolled": true
   },
   "outputs": [
    {
     "data": {
      "text/html": [
       "<style>#sk-container-id-6 {color: black;background-color: white;}#sk-container-id-6 pre{padding: 0;}#sk-container-id-6 div.sk-toggleable {background-color: white;}#sk-container-id-6 label.sk-toggleable__label {cursor: pointer;display: block;width: 100%;margin-bottom: 0;padding: 0.3em;box-sizing: border-box;text-align: center;}#sk-container-id-6 label.sk-toggleable__label-arrow:before {content: \"▸\";float: left;margin-right: 0.25em;color: #696969;}#sk-container-id-6 label.sk-toggleable__label-arrow:hover:before {color: black;}#sk-container-id-6 div.sk-estimator:hover label.sk-toggleable__label-arrow:before {color: black;}#sk-container-id-6 div.sk-toggleable__content {max-height: 0;max-width: 0;overflow: hidden;text-align: left;background-color: #f0f8ff;}#sk-container-id-6 div.sk-toggleable__content pre {margin: 0.2em;color: black;border-radius: 0.25em;background-color: #f0f8ff;}#sk-container-id-6 input.sk-toggleable__control:checked~div.sk-toggleable__content {max-height: 200px;max-width: 100%;overflow: auto;}#sk-container-id-6 input.sk-toggleable__control:checked~label.sk-toggleable__label-arrow:before {content: \"▾\";}#sk-container-id-6 div.sk-estimator input.sk-toggleable__control:checked~label.sk-toggleable__label {background-color: #d4ebff;}#sk-container-id-6 div.sk-label input.sk-toggleable__control:checked~label.sk-toggleable__label {background-color: #d4ebff;}#sk-container-id-6 input.sk-hidden--visually {border: 0;clip: rect(1px 1px 1px 1px);clip: rect(1px, 1px, 1px, 1px);height: 1px;margin: -1px;overflow: hidden;padding: 0;position: absolute;width: 1px;}#sk-container-id-6 div.sk-estimator {font-family: monospace;background-color: #f0f8ff;border: 1px dotted black;border-radius: 0.25em;box-sizing: border-box;margin-bottom: 0.5em;}#sk-container-id-6 div.sk-estimator:hover {background-color: #d4ebff;}#sk-container-id-6 div.sk-parallel-item::after {content: \"\";width: 100%;border-bottom: 1px solid gray;flex-grow: 1;}#sk-container-id-6 div.sk-label:hover label.sk-toggleable__label {background-color: #d4ebff;}#sk-container-id-6 div.sk-serial::before {content: \"\";position: absolute;border-left: 1px solid gray;box-sizing: border-box;top: 0;bottom: 0;left: 50%;z-index: 0;}#sk-container-id-6 div.sk-serial {display: flex;flex-direction: column;align-items: center;background-color: white;padding-right: 0.2em;padding-left: 0.2em;position: relative;}#sk-container-id-6 div.sk-item {position: relative;z-index: 1;}#sk-container-id-6 div.sk-parallel {display: flex;align-items: stretch;justify-content: center;background-color: white;position: relative;}#sk-container-id-6 div.sk-item::before, #sk-container-id-6 div.sk-parallel-item::before {content: \"\";position: absolute;border-left: 1px solid gray;box-sizing: border-box;top: 0;bottom: 0;left: 50%;z-index: -1;}#sk-container-id-6 div.sk-parallel-item {display: flex;flex-direction: column;z-index: 1;position: relative;background-color: white;}#sk-container-id-6 div.sk-parallel-item:first-child::after {align-self: flex-end;width: 50%;}#sk-container-id-6 div.sk-parallel-item:last-child::after {align-self: flex-start;width: 50%;}#sk-container-id-6 div.sk-parallel-item:only-child::after {width: 0;}#sk-container-id-6 div.sk-dashed-wrapped {border: 1px dashed gray;margin: 0 0.4em 0.5em 0.4em;box-sizing: border-box;padding-bottom: 0.4em;background-color: white;}#sk-container-id-6 div.sk-label label {font-family: monospace;font-weight: bold;display: inline-block;line-height: 1.2em;}#sk-container-id-6 div.sk-label-container {text-align: center;}#sk-container-id-6 div.sk-container {/* jupyter's `normalize.less` sets `[hidden] { display: none; }` but bootstrap.min.css set `[hidden] { display: none !important; }` so we also need the `!important` here to be able to override the default hidden behavior on the sphinx rendered scikit-learn.org. See: https://github.com/scikit-learn/scikit-learn/issues/21755 */display: inline-block !important;position: relative;}#sk-container-id-6 div.sk-text-repr-fallback {display: none;}</style><div id=\"sk-container-id-6\" class=\"sk-top-container\"><div class=\"sk-text-repr-fallback\"><pre>KNeighborsClassifier(n_neighbors=20)</pre><b>In a Jupyter environment, please rerun this cell to show the HTML representation or trust the notebook. <br />On GitHub, the HTML representation is unable to render, please try loading this page with nbviewer.org.</b></div><div class=\"sk-container\" hidden><div class=\"sk-item\"><div class=\"sk-estimator sk-toggleable\"><input class=\"sk-toggleable__control sk-hidden--visually\" id=\"sk-estimator-id-6\" type=\"checkbox\" checked><label for=\"sk-estimator-id-6\" class=\"sk-toggleable__label sk-toggleable__label-arrow\">KNeighborsClassifier</label><div class=\"sk-toggleable__content\"><pre>KNeighborsClassifier(n_neighbors=20)</pre></div></div></div></div></div>"
      ],
      "text/plain": [
       "KNeighborsClassifier(n_neighbors=20)"
      ]
     },
     "execution_count": 80,
     "metadata": {},
     "output_type": "execute_result"
    }
   ],
   "source": [
    "knn_classifier = KNeighborsClassifier(n_neighbors=20)\n",
    "knn_classifier.fit(X_train_selected, y_train)"
   ]
  },
  {
   "cell_type": "code",
   "execution_count": 82,
   "id": "0e8dddf2",
   "metadata": {},
   "outputs": [
    {
     "name": "stdout",
     "output_type": "stream",
     "text": [
      "Accuracy: 0.9865384615384616\n",
      "Classification Report:\n",
      "               precision    recall  f1-score   support\n",
      "\n",
      "           0       0.98      0.98      0.98        49\n",
      "           1       0.96      1.00      0.98       130\n",
      "           2       1.00      1.00      1.00       196\n",
      "           3       1.00      0.89      0.94        45\n",
      "           4       0.99      0.99      0.99       100\n",
      "\n",
      "    accuracy                           0.99       520\n",
      "   macro avg       0.99      0.97      0.98       520\n",
      "weighted avg       0.99      0.99      0.99       520\n",
      "\n"
     ]
    }
   ],
   "source": [
    "y_pred = knn_classifier.predict(X_test_selected)\n",
    "accuracy = accuracy_score(y_test, y_pred)\n",
    "print(\"Accuracy:\", accuracy)\n",
    "print(\"Classification Report:\\n\", classification_report(y_test, y_pred))"
   ]
  },
  {
   "cell_type": "markdown",
   "id": "ba01342c",
   "metadata": {},
   "source": [
    "## no feature engineering"
   ]
  },
  {
   "cell_type": "code",
   "execution_count": 86,
   "id": "9eed7e37",
   "metadata": {},
   "outputs": [],
   "source": [
    "df = pd.read_csv(\"output.csv\")\n",
    "X = df.drop(['act', 'Unnamed: 0', 'w_loc_h','w_loc_v','w_loc_d'], axis=1) # features\n",
    "y = df['act']  # 目标变量\n",
    "df['act'] = df['act'].map({'Others': 0, 'Normal': 1, 'Turning': 2,'Crouching': 3, 'Falling': 4})"
   ]
  },
  {
   "cell_type": "code",
   "execution_count": 87,
   "id": "38b4496f",
   "metadata": {},
   "outputs": [],
   "source": [
    "X_train, X_test, y_train, y_test = train_test_split(X, y, test_size=0.2, random_state=42)"
   ]
  },
  {
   "cell_type": "code",
   "execution_count": 90,
   "id": "0802ab42",
   "metadata": {},
   "outputs": [
    {
     "data": {
      "text/html": [
       "<style>#sk-container-id-8 {color: black;background-color: white;}#sk-container-id-8 pre{padding: 0;}#sk-container-id-8 div.sk-toggleable {background-color: white;}#sk-container-id-8 label.sk-toggleable__label {cursor: pointer;display: block;width: 100%;margin-bottom: 0;padding: 0.3em;box-sizing: border-box;text-align: center;}#sk-container-id-8 label.sk-toggleable__label-arrow:before {content: \"▸\";float: left;margin-right: 0.25em;color: #696969;}#sk-container-id-8 label.sk-toggleable__label-arrow:hover:before {color: black;}#sk-container-id-8 div.sk-estimator:hover label.sk-toggleable__label-arrow:before {color: black;}#sk-container-id-8 div.sk-toggleable__content {max-height: 0;max-width: 0;overflow: hidden;text-align: left;background-color: #f0f8ff;}#sk-container-id-8 div.sk-toggleable__content pre {margin: 0.2em;color: black;border-radius: 0.25em;background-color: #f0f8ff;}#sk-container-id-8 input.sk-toggleable__control:checked~div.sk-toggleable__content {max-height: 200px;max-width: 100%;overflow: auto;}#sk-container-id-8 input.sk-toggleable__control:checked~label.sk-toggleable__label-arrow:before {content: \"▾\";}#sk-container-id-8 div.sk-estimator input.sk-toggleable__control:checked~label.sk-toggleable__label {background-color: #d4ebff;}#sk-container-id-8 div.sk-label input.sk-toggleable__control:checked~label.sk-toggleable__label {background-color: #d4ebff;}#sk-container-id-8 input.sk-hidden--visually {border: 0;clip: rect(1px 1px 1px 1px);clip: rect(1px, 1px, 1px, 1px);height: 1px;margin: -1px;overflow: hidden;padding: 0;position: absolute;width: 1px;}#sk-container-id-8 div.sk-estimator {font-family: monospace;background-color: #f0f8ff;border: 1px dotted black;border-radius: 0.25em;box-sizing: border-box;margin-bottom: 0.5em;}#sk-container-id-8 div.sk-estimator:hover {background-color: #d4ebff;}#sk-container-id-8 div.sk-parallel-item::after {content: \"\";width: 100%;border-bottom: 1px solid gray;flex-grow: 1;}#sk-container-id-8 div.sk-label:hover label.sk-toggleable__label {background-color: #d4ebff;}#sk-container-id-8 div.sk-serial::before {content: \"\";position: absolute;border-left: 1px solid gray;box-sizing: border-box;top: 0;bottom: 0;left: 50%;z-index: 0;}#sk-container-id-8 div.sk-serial {display: flex;flex-direction: column;align-items: center;background-color: white;padding-right: 0.2em;padding-left: 0.2em;position: relative;}#sk-container-id-8 div.sk-item {position: relative;z-index: 1;}#sk-container-id-8 div.sk-parallel {display: flex;align-items: stretch;justify-content: center;background-color: white;position: relative;}#sk-container-id-8 div.sk-item::before, #sk-container-id-8 div.sk-parallel-item::before {content: \"\";position: absolute;border-left: 1px solid gray;box-sizing: border-box;top: 0;bottom: 0;left: 50%;z-index: -1;}#sk-container-id-8 div.sk-parallel-item {display: flex;flex-direction: column;z-index: 1;position: relative;background-color: white;}#sk-container-id-8 div.sk-parallel-item:first-child::after {align-self: flex-end;width: 50%;}#sk-container-id-8 div.sk-parallel-item:last-child::after {align-self: flex-start;width: 50%;}#sk-container-id-8 div.sk-parallel-item:only-child::after {width: 0;}#sk-container-id-8 div.sk-dashed-wrapped {border: 1px dashed gray;margin: 0 0.4em 0.5em 0.4em;box-sizing: border-box;padding-bottom: 0.4em;background-color: white;}#sk-container-id-8 div.sk-label label {font-family: monospace;font-weight: bold;display: inline-block;line-height: 1.2em;}#sk-container-id-8 div.sk-label-container {text-align: center;}#sk-container-id-8 div.sk-container {/* jupyter's `normalize.less` sets `[hidden] { display: none; }` but bootstrap.min.css set `[hidden] { display: none !important; }` so we also need the `!important` here to be able to override the default hidden behavior on the sphinx rendered scikit-learn.org. See: https://github.com/scikit-learn/scikit-learn/issues/21755 */display: inline-block !important;position: relative;}#sk-container-id-8 div.sk-text-repr-fallback {display: none;}</style><div id=\"sk-container-id-8\" class=\"sk-top-container\"><div class=\"sk-text-repr-fallback\"><pre>KNeighborsClassifier(n_neighbors=20)</pre><b>In a Jupyter environment, please rerun this cell to show the HTML representation or trust the notebook. <br />On GitHub, the HTML representation is unable to render, please try loading this page with nbviewer.org.</b></div><div class=\"sk-container\" hidden><div class=\"sk-item\"><div class=\"sk-estimator sk-toggleable\"><input class=\"sk-toggleable__control sk-hidden--visually\" id=\"sk-estimator-id-8\" type=\"checkbox\" checked><label for=\"sk-estimator-id-8\" class=\"sk-toggleable__label sk-toggleable__label-arrow\">KNeighborsClassifier</label><div class=\"sk-toggleable__content\"><pre>KNeighborsClassifier(n_neighbors=20)</pre></div></div></div></div></div>"
      ],
      "text/plain": [
       "KNeighborsClassifier(n_neighbors=20)"
      ]
     },
     "execution_count": 90,
     "metadata": {},
     "output_type": "execute_result"
    }
   ],
   "source": [
    "knn_classifier = KNeighborsClassifier(n_neighbors=20)\n",
    "knn_classifier.fit(X_train, y_train)"
   ]
  },
  {
   "cell_type": "code",
   "execution_count": 91,
   "id": "fb11c653",
   "metadata": {},
   "outputs": [
    {
     "name": "stdout",
     "output_type": "stream",
     "text": [
      "Accuracy: 0.9136276391554703\n",
      "Classification Report:\n",
      "               precision    recall  f1-score   support\n",
      "\n",
      "   Crouching       0.89      0.98      0.93        48\n",
      "     Falling       0.93      0.85      0.89        94\n",
      "      Normal       0.92      0.95      0.94       131\n",
      "      Others       0.92      0.69      0.79        51\n",
      "     Turning       0.91      0.96      0.93       197\n",
      "\n",
      "    accuracy                           0.91       521\n",
      "   macro avg       0.91      0.89      0.90       521\n",
      "weighted avg       0.91      0.91      0.91       521\n",
      "\n"
     ]
    }
   ],
   "source": [
    "y_pred = knn_classifier.predict(X_test)\n",
    "accuracy = accuracy_score(y_test, y_pred)\n",
    "print(\"Accuracy:\", accuracy)\n",
    "print(\"Classification Report:\\n\", classification_report(y_test, y_pred))"
   ]
  },
  {
   "cell_type": "code",
   "execution_count": null,
   "id": "b7f6935e",
   "metadata": {},
   "outputs": [],
   "source": []
  }
 ],
 "metadata": {
  "kernelspec": {
   "display_name": "Python 3 (ipykernel)",
   "language": "python",
   "name": "python3"
  },
  "language_info": {
   "codemirror_mode": {
    "name": "ipython",
    "version": 3
   },
   "file_extension": ".py",
   "mimetype": "text/x-python",
   "name": "python",
   "nbconvert_exporter": "python",
   "pygments_lexer": "ipython3",
   "version": "3.9.7"
  }
 },
 "nbformat": 4,
 "nbformat_minor": 5
}
