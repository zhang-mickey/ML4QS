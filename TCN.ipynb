{
 "cells": [
  {
   "cell_type": "code",
   "execution_count": 1,
   "id": "5a4e1dd3-6057-4e5b-a28a-f6efb8664109",
   "metadata": {
    "tags": []
   },
   "outputs": [],
   "source": [
    "import pandas as pd\n",
    "import numpy as np\n",
    "import re\n",
    "import copy\n",
    "from datetime import datetime, timedelta\n",
    "import matplotlib.pyplot as plt\n",
    "import matplotlib.dates as md\n",
    "from sklearn.preprocessing import StandardScaler\n",
    "from sklearn.preprocessing import LabelEncoder\n",
    "from sklearn.model_selection import train_test_split\n",
    "from torch.utils.data import DataLoader, TensorDataset\n",
    "import torch\n",
    "import torch.nn as nn\n",
    "import torch.nn.functional as F"
   ]
  },
  {
   "cell_type": "code",
   "execution_count": 2,
   "id": "740fba14-6cff-47fa-8ef1-db1a55966ca9",
   "metadata": {
    "tags": []
   },
   "outputs": [
    {
     "name": "stdout",
     "output_type": "stream",
     "text": [
      "Available Memory: 2.38 GB\n"
     ]
    }
   ],
   "source": [
    "import psutil\n",
    "\n",
    "# 检查可用内存\n",
    "memory_info = psutil.virtual_memory()\n",
    "print(f'Available Memory: {memory_info.available / (1024 ** 3):.2f} GB')"
   ]
  },
  {
   "cell_type": "code",
   "execution_count": 3,
   "id": "d14e4d13-e1ca-41a8-bab0-4bb21813a864",
   "metadata": {
    "tags": []
   },
   "outputs": [],
   "source": [
    "class Chomp1d(nn.Module):\n",
    "    def __init__(self, chomp_size):\n",
    "        super(Chomp1d, self).__init__()\n",
    "        self.chomp_size = chomp_size\n",
    "\n",
    "    def forward(self, x):\n",
    "        return x[:, :, :-self.chomp_size].contiguous()\n",
    "\n",
    "class TemporalBlock(nn.Module):\n",
    "    def __init__(self, n_inputs, n_outputs, kernel_size, stride, dilation, padding, dropout=0.2):\n",
    "        super(TemporalBlock, self).__init__()\n",
    "        self.conv1 = nn.utils.weight_norm(nn.Conv1d(n_inputs, n_outputs, kernel_size,\n",
    "                                                    stride=stride, padding=padding, dilation=dilation))\n",
    "        self.chomp1 = Chomp1d(padding)\n",
    "        self.relu1 = nn.ReLU()\n",
    "        self.dropout1 = nn.Dropout(dropout)\n",
    "\n",
    "        self.conv2 = nn.utils.weight_norm(nn.Conv1d(n_outputs, n_outputs, kernel_size,\n",
    "                                                    stride=stride, padding=padding, dilation=dilation))\n",
    "        self.chomp2 = Chomp1d(padding)\n",
    "        self.relu2 = nn.ReLU()\n",
    "        self.dropout2 = nn.Dropout(dropout)\n",
    "\n",
    "        self.net = nn.Sequential(self.conv1, self.chomp1, self.relu1, self.dropout1,\n",
    "                                 self.conv2, self.chomp2, self.relu2, self.dropout2)\n",
    "        self.downsample = nn.Conv1d(n_inputs, n_outputs, 1) if n_inputs != n_outputs else None\n",
    "        self.relu = nn.ReLU()\n",
    "        self.init_weights()\n",
    "\n",
    "    def init_weights(self):\n",
    "        self.conv1.weight.data.normal_(0, 0.01)\n",
    "        self.conv2.weight.data.normal_(0, 0.01)\n",
    "        if self.downsample is not None:\n",
    "            self.downsample.weight.data.normal_(0, 0.01)\n",
    "\n",
    "    def forward(self, x):\n",
    "        out = self.net(x)\n",
    "        res = x if self.downsample is None else self.downsample(x)\n",
    "        return self.relu(out + res)\n",
    "\n",
    "class TemporalConvNet(nn.Module):\n",
    "    def __init__(self, num_inputs, num_channels, kernel_size=2, dropout=0.2):\n",
    "        super(TemporalConvNet, self).__init__()\n",
    "        layers = []\n",
    "        num_levels = len(num_channels)\n",
    "        for i in range(num_levels):\n",
    "            dilation_size = 2 ** i\n",
    "            in_channels = num_inputs if i == 0 else num_channels[i-1]\n",
    "            out_channels = num_channels[i]\n",
    "            layers += [TemporalBlock(in_channels, out_channels, kernel_size, stride=1, dilation=dilation_size,\n",
    "                                     padding=(kernel_size-1) * dilation_size, dropout=dropout)]\n",
    "\n",
    "        self.network = nn.Sequential(*layers)\n",
    "\n",
    "    def forward(self, x):\n",
    "        return self.network(x)"
   ]
  },
  {
   "cell_type": "code",
   "execution_count": 4,
   "id": "720d568e-f132-43e2-b481-466990ec1ff4",
   "metadata": {
    "tags": []
   },
   "outputs": [],
   "source": [
    "class TCNClassifier(nn.Module):\n",
    "    def __init__(self, input_size, num_classes, num_channels, kernel_size=2, dropout=0.2):\n",
    "        super(TCNClassifier, self).__init__()\n",
    "        self.tcn = TemporalConvNet(input_size, num_channels, kernel_size, dropout)\n",
    "        self.fc = nn.Linear(num_channels[-1], num_classes)\n",
    "\n",
    "    def forward(self, x):\n",
    "        y1 = self.tcn(x)\n",
    "        o = self.fc(y1[:, :, -1])\n",
    "        return o"
   ]
  },
  {
   "cell_type": "code",
   "execution_count": 5,
   "id": "b0005b85-097f-4251-8178-02e41b2e6c0a",
   "metadata": {
    "tags": []
   },
   "outputs": [
    {
     "name": "stdout",
     "output_type": "stream",
     "text": [
      "false\n"
     ]
    }
   ],
   "source": [
    "if torch.cuda.is_available():\n",
    "    print(\"true\")\n",
    "else:\n",
    "    print(\"false\")"
   ]
  },
  {
   "cell_type": "code",
   "execution_count": 6,
   "id": "a8db8bda-c96f-4155-bd1d-17e0a35f421c",
   "metadata": {
    "tags": []
   },
   "outputs": [],
   "source": [
    "file_path = 'result/output.csv'\n",
    "# 分批加载数据\n",
    "# chunk_size = 10000 \n",
    "# data = pd.read_csv(file_path,nrows=100)\n",
    "data = pd.read_csv(file_path)"
   ]
  },
  {
   "cell_type": "code",
   "execution_count": 7,
   "id": "d547d688-0fb6-4a6a-ba56-ddce23595362",
   "metadata": {
    "tags": []
   },
   "outputs": [
    {
     "name": "stdout",
     "output_type": "stream",
     "text": [
      "Available Memory: 2.38 GB\n"
     ]
    }
   ],
   "source": [
    "memory_info = psutil.virtual_memory()\n",
    "print(f'Available Memory: {memory_info.available / (1024 ** 3):.2f} GB')"
   ]
  },
  {
   "cell_type": "code",
   "execution_count": 8,
   "id": "e4cee57a-4138-4949-a5c9-49dd04c920da",
   "metadata": {
    "tags": []
   },
   "outputs": [
    {
     "data": {
      "text/html": [
       "<div>\n",
       "<style scoped>\n",
       "    .dataframe tbody tr th:only-of-type {\n",
       "        vertical-align: middle;\n",
       "    }\n",
       "\n",
       "    .dataframe tbody tr th {\n",
       "        vertical-align: top;\n",
       "    }\n",
       "\n",
       "    .dataframe thead th {\n",
       "        text-align: right;\n",
       "    }\n",
       "</style>\n",
       "<table border=\"1\" class=\"dataframe\">\n",
       "  <thead>\n",
       "    <tr style=\"text-align: right;\">\n",
       "      <th></th>\n",
       "      <th>Unnamed: 0</th>\n",
       "      <th>hr</th>\n",
       "      <th>f_acc_x</th>\n",
       "      <th>f_acc_y</th>\n",
       "      <th>f_acc_z</th>\n",
       "      <th>f_gyr_x</th>\n",
       "      <th>f_gyr_y</th>\n",
       "      <th>f_gyr_z</th>\n",
       "      <th>f_loc_h</th>\n",
       "      <th>f_loc_v</th>\n",
       "      <th>...</th>\n",
       "      <th>w_acc_z</th>\n",
       "      <th>w_gyr_x</th>\n",
       "      <th>w_gyr_y</th>\n",
       "      <th>w_gyr_z</th>\n",
       "      <th>w_loc_h</th>\n",
       "      <th>w_loc_v</th>\n",
       "      <th>w_loc_d</th>\n",
       "      <th>w_mag_x</th>\n",
       "      <th>w_mag_y</th>\n",
       "      <th>w_mag_z</th>\n",
       "    </tr>\n",
       "  </thead>\n",
       "  <tbody>\n",
       "    <tr>\n",
       "      <th>count</th>\n",
       "      <td>1.000000e+02</td>\n",
       "      <td>100.000000</td>\n",
       "      <td>100.000000</td>\n",
       "      <td>100.000000</td>\n",
       "      <td>100.000000</td>\n",
       "      <td>100.000000</td>\n",
       "      <td>100.000000</td>\n",
       "      <td>100.000000</td>\n",
       "      <td>100.000000</td>\n",
       "      <td>100.000000</td>\n",
       "      <td>...</td>\n",
       "      <td>100.000000</td>\n",
       "      <td>100.000000</td>\n",
       "      <td>100.000000</td>\n",
       "      <td>100.000000</td>\n",
       "      <td>100.000000</td>\n",
       "      <td>100.000000</td>\n",
       "      <td>100.000000</td>\n",
       "      <td>100.000000</td>\n",
       "      <td>100.000000</td>\n",
       "      <td>100.000000</td>\n",
       "    </tr>\n",
       "    <tr>\n",
       "      <th>mean</th>\n",
       "      <td>1.717788e+12</td>\n",
       "      <td>111.486667</td>\n",
       "      <td>7.342569</td>\n",
       "      <td>-1.782610</td>\n",
       "      <td>5.642914</td>\n",
       "      <td>0.087608</td>\n",
       "      <td>-0.066490</td>\n",
       "      <td>0.101187</td>\n",
       "      <td>1.707605</td>\n",
       "      <td>1.780140</td>\n",
       "      <td>...</td>\n",
       "      <td>4.114459</td>\n",
       "      <td>0.002062</td>\n",
       "      <td>0.122406</td>\n",
       "      <td>0.065277</td>\n",
       "      <td>-3.338245</td>\n",
       "      <td>0.457550</td>\n",
       "      <td>12.888500</td>\n",
       "      <td>-16.788938</td>\n",
       "      <td>18.955688</td>\n",
       "      <td>-32.135064</td>\n",
       "    </tr>\n",
       "    <tr>\n",
       "      <th>std</th>\n",
       "      <td>2.901149e+03</td>\n",
       "      <td>0.611010</td>\n",
       "      <td>6.498912</td>\n",
       "      <td>5.812041</td>\n",
       "      <td>6.166445</td>\n",
       "      <td>1.149495</td>\n",
       "      <td>0.946380</td>\n",
       "      <td>1.178690</td>\n",
       "      <td>1.806069</td>\n",
       "      <td>0.226543</td>\n",
       "      <td>...</td>\n",
       "      <td>3.056653</td>\n",
       "      <td>1.024968</td>\n",
       "      <td>0.864068</td>\n",
       "      <td>0.906248</td>\n",
       "      <td>0.730429</td>\n",
       "      <td>0.751724</td>\n",
       "      <td>6.088267</td>\n",
       "      <td>14.199230</td>\n",
       "      <td>21.177506</td>\n",
       "      <td>7.209009</td>\n",
       "    </tr>\n",
       "    <tr>\n",
       "      <th>min</th>\n",
       "      <td>1.717788e+12</td>\n",
       "      <td>110.166667</td>\n",
       "      <td>-12.236304</td>\n",
       "      <td>-28.565548</td>\n",
       "      <td>-17.461040</td>\n",
       "      <td>-3.494615</td>\n",
       "      <td>-2.642447</td>\n",
       "      <td>-4.062407</td>\n",
       "      <td>0.165778</td>\n",
       "      <td>1.258523</td>\n",
       "      <td>...</td>\n",
       "      <td>-3.852444</td>\n",
       "      <td>-3.452455</td>\n",
       "      <td>-2.081980</td>\n",
       "      <td>-2.717737</td>\n",
       "      <td>-4.616870</td>\n",
       "      <td>0.000000</td>\n",
       "      <td>10.100000</td>\n",
       "      <td>-33.243752</td>\n",
       "      <td>-29.006250</td>\n",
       "      <td>-45.187500</td>\n",
       "    </tr>\n",
       "    <tr>\n",
       "      <th>25%</th>\n",
       "      <td>1.717788e+12</td>\n",
       "      <td>110.991667</td>\n",
       "      <td>5.618940</td>\n",
       "      <td>-2.222990</td>\n",
       "      <td>2.666255</td>\n",
       "      <td>-0.261482</td>\n",
       "      <td>-0.513053</td>\n",
       "      <td>-0.366268</td>\n",
       "      <td>0.335565</td>\n",
       "      <td>1.593669</td>\n",
       "      <td>...</td>\n",
       "      <td>1.909472</td>\n",
       "      <td>-0.549931</td>\n",
       "      <td>-0.272942</td>\n",
       "      <td>-0.234228</td>\n",
       "      <td>-3.957847</td>\n",
       "      <td>0.000000</td>\n",
       "      <td>10.100000</td>\n",
       "      <td>-26.685938</td>\n",
       "      <td>6.693750</td>\n",
       "      <td>-36.960939</td>\n",
       "    </tr>\n",
       "    <tr>\n",
       "      <th>50%</th>\n",
       "      <td>1.717788e+12</td>\n",
       "      <td>111.816667</td>\n",
       "      <td>7.084168</td>\n",
       "      <td>-1.157169</td>\n",
       "      <td>5.711598</td>\n",
       "      <td>0.004988</td>\n",
       "      <td>-0.218886</td>\n",
       "      <td>-0.062349</td>\n",
       "      <td>0.439643</td>\n",
       "      <td>1.978385</td>\n",
       "      <td>...</td>\n",
       "      <td>3.960121</td>\n",
       "      <td>-0.108887</td>\n",
       "      <td>-0.004734</td>\n",
       "      <td>0.121944</td>\n",
       "      <td>-2.981400</td>\n",
       "      <td>0.000000</td>\n",
       "      <td>10.100000</td>\n",
       "      <td>-20.231251</td>\n",
       "      <td>29.193751</td>\n",
       "      <td>-32.775002</td>\n",
       "    </tr>\n",
       "    <tr>\n",
       "      <th>75%</th>\n",
       "      <td>1.717788e+12</td>\n",
       "      <td>112.000000</td>\n",
       "      <td>10.269395</td>\n",
       "      <td>0.176071</td>\n",
       "      <td>7.450868</td>\n",
       "      <td>0.657338</td>\n",
       "      <td>0.209199</td>\n",
       "      <td>0.341038</td>\n",
       "      <td>4.268420</td>\n",
       "      <td>1.978385</td>\n",
       "      <td>...</td>\n",
       "      <td>7.186843</td>\n",
       "      <td>0.534087</td>\n",
       "      <td>0.447688</td>\n",
       "      <td>0.526336</td>\n",
       "      <td>-2.981400</td>\n",
       "      <td>0.987000</td>\n",
       "      <td>10.100000</td>\n",
       "      <td>-11.967188</td>\n",
       "      <td>33.046877</td>\n",
       "      <td>-27.375001</td>\n",
       "    </tr>\n",
       "    <tr>\n",
       "      <th>max</th>\n",
       "      <td>1.717788e+12</td>\n",
       "      <td>112.000000</td>\n",
       "      <td>22.357058</td>\n",
       "      <td>9.199420</td>\n",
       "      <td>27.372678</td>\n",
       "      <td>3.323709</td>\n",
       "      <td>2.897557</td>\n",
       "      <td>4.641439</td>\n",
       "      <td>4.268420</td>\n",
       "      <td>1.978385</td>\n",
       "      <td>...</td>\n",
       "      <td>8.925228</td>\n",
       "      <td>4.008495</td>\n",
       "      <td>3.790721</td>\n",
       "      <td>3.847074</td>\n",
       "      <td>-1.301601</td>\n",
       "      <td>1.920000</td>\n",
       "      <td>28.799999</td>\n",
       "      <td>29.643751</td>\n",
       "      <td>45.000000</td>\n",
       "      <td>-3.693750</td>\n",
       "    </tr>\n",
       "  </tbody>\n",
       "</table>\n",
       "<p>8 rows × 26 columns</p>\n",
       "</div>"
      ],
      "text/plain": [
       "         Unnamed: 0          hr     f_acc_x     f_acc_y     f_acc_z  \\\n",
       "count  1.000000e+02  100.000000  100.000000  100.000000  100.000000   \n",
       "mean   1.717788e+12  111.486667    7.342569   -1.782610    5.642914   \n",
       "std    2.901149e+03    0.611010    6.498912    5.812041    6.166445   \n",
       "min    1.717788e+12  110.166667  -12.236304  -28.565548  -17.461040   \n",
       "25%    1.717788e+12  110.991667    5.618940   -2.222990    2.666255   \n",
       "50%    1.717788e+12  111.816667    7.084168   -1.157169    5.711598   \n",
       "75%    1.717788e+12  112.000000   10.269395    0.176071    7.450868   \n",
       "max    1.717788e+12  112.000000   22.357058    9.199420   27.372678   \n",
       "\n",
       "          f_gyr_x     f_gyr_y     f_gyr_z     f_loc_h     f_loc_v  ...  \\\n",
       "count  100.000000  100.000000  100.000000  100.000000  100.000000  ...   \n",
       "mean     0.087608   -0.066490    0.101187    1.707605    1.780140  ...   \n",
       "std      1.149495    0.946380    1.178690    1.806069    0.226543  ...   \n",
       "min     -3.494615   -2.642447   -4.062407    0.165778    1.258523  ...   \n",
       "25%     -0.261482   -0.513053   -0.366268    0.335565    1.593669  ...   \n",
       "50%      0.004988   -0.218886   -0.062349    0.439643    1.978385  ...   \n",
       "75%      0.657338    0.209199    0.341038    4.268420    1.978385  ...   \n",
       "max      3.323709    2.897557    4.641439    4.268420    1.978385  ...   \n",
       "\n",
       "          w_acc_z     w_gyr_x     w_gyr_y     w_gyr_z     w_loc_h     w_loc_v  \\\n",
       "count  100.000000  100.000000  100.000000  100.000000  100.000000  100.000000   \n",
       "mean     4.114459    0.002062    0.122406    0.065277   -3.338245    0.457550   \n",
       "std      3.056653    1.024968    0.864068    0.906248    0.730429    0.751724   \n",
       "min     -3.852444   -3.452455   -2.081980   -2.717737   -4.616870    0.000000   \n",
       "25%      1.909472   -0.549931   -0.272942   -0.234228   -3.957847    0.000000   \n",
       "50%      3.960121   -0.108887   -0.004734    0.121944   -2.981400    0.000000   \n",
       "75%      7.186843    0.534087    0.447688    0.526336   -2.981400    0.987000   \n",
       "max      8.925228    4.008495    3.790721    3.847074   -1.301601    1.920000   \n",
       "\n",
       "          w_loc_d     w_mag_x     w_mag_y     w_mag_z  \n",
       "count  100.000000  100.000000  100.000000  100.000000  \n",
       "mean    12.888500  -16.788938   18.955688  -32.135064  \n",
       "std      6.088267   14.199230   21.177506    7.209009  \n",
       "min     10.100000  -33.243752  -29.006250  -45.187500  \n",
       "25%     10.100000  -26.685938    6.693750  -36.960939  \n",
       "50%     10.100000  -20.231251   29.193751  -32.775002  \n",
       "75%     10.100000  -11.967188   33.046877  -27.375001  \n",
       "max     28.799999   29.643751   45.000000   -3.693750  \n",
       "\n",
       "[8 rows x 26 columns]"
      ]
     },
     "execution_count": 8,
     "metadata": {},
     "output_type": "execute_result"
    }
   ],
   "source": [
    "data.describe()"
   ]
  },
  {
   "cell_type": "code",
   "execution_count": 9,
   "id": "753ad219-400f-4555-9916-b9a9b4becf5b",
   "metadata": {
    "tags": []
   },
   "outputs": [
    {
     "name": "stdout",
     "output_type": "stream",
     "text": [
      "<class 'pandas.core.frame.DataFrame'>\n",
      "RangeIndex: 100 entries, 0 to 99\n",
      "Data columns (total 27 columns):\n",
      " #   Column      Non-Null Count  Dtype  \n",
      "---  ------      --------------  -----  \n",
      " 0   Unnamed: 0  100 non-null    int64  \n",
      " 1   hr          100 non-null    float64\n",
      " 2   f_acc_x     100 non-null    float64\n",
      " 3   f_acc_y     100 non-null    float64\n",
      " 4   f_acc_z     100 non-null    float64\n",
      " 5   f_gyr_x     100 non-null    float64\n",
      " 6   f_gyr_y     100 non-null    float64\n",
      " 7   f_gyr_z     100 non-null    float64\n",
      " 8   f_loc_h     100 non-null    float64\n",
      " 9   f_loc_v     100 non-null    float64\n",
      " 10  f_loc_d     100 non-null    float64\n",
      " 11  f_mag_x     100 non-null    float64\n",
      " 12  f_mag_y     100 non-null    float64\n",
      " 13  f_mag_z     100 non-null    float64\n",
      " 14  w_acc_x     100 non-null    float64\n",
      " 15  w_acc_y     100 non-null    float64\n",
      " 16  w_acc_z     100 non-null    float64\n",
      " 17  w_gyr_x     100 non-null    float64\n",
      " 18  w_gyr_y     100 non-null    float64\n",
      " 19  w_gyr_z     100 non-null    float64\n",
      " 20  w_loc_h     100 non-null    float64\n",
      " 21  w_loc_v     100 non-null    float64\n",
      " 22  w_loc_d     100 non-null    float64\n",
      " 23  w_mag_x     100 non-null    float64\n",
      " 24  w_mag_y     100 non-null    float64\n",
      " 25  w_mag_z     100 non-null    float64\n",
      " 26  act         100 non-null    object \n",
      "dtypes: float64(25), int64(1), object(1)\n",
      "memory usage: 21.2+ KB\n"
     ]
    }
   ],
   "source": [
    "data.info()"
   ]
  },
  {
   "cell_type": "code",
   "execution_count": 10,
   "id": "87175d88-84b2-4751-933b-3f065957128f",
   "metadata": {
    "tags": []
   },
   "outputs": [
    {
     "data": {
      "text/plain": [
       "(100, 27)"
      ]
     },
     "execution_count": 10,
     "metadata": {},
     "output_type": "execute_result"
    }
   ],
   "source": [
    "data.shape"
   ]
  },
  {
   "cell_type": "code",
   "execution_count": 11,
   "id": "b35e32c6-bdd0-403a-b0ff-c97df47088d2",
   "metadata": {
    "tags": []
   },
   "outputs": [],
   "source": [
    "data=data.drop(columns=['Unnamed: 0'])"
   ]
  },
  {
   "cell_type": "code",
   "execution_count": 12,
   "id": "8785d798-fd34-4cf4-a1cd-4fe1d85e1d33",
   "metadata": {},
   "outputs": [],
   "source": [
    "# 生成时间序列数据\n",
    "def create_sequences(data, sequence_length):\n",
    "    sequences = []\n",
    "    labels = []\n",
    "    for i in range(len(data) - sequence_length):\n",
    "        seq = data.iloc[i:i + sequence_length, :-1]\n",
    "        # print(seq)\n",
    "         # 最后一列是标签\n",
    "        label = data.iloc[i + sequence_length - 1, -1]\n",
    "        print(label)\n",
    "        sequences.append(seq)\n",
    "        labels.append(label)\n",
    "    return np.array(sequences), np.array(labels)"
   ]
  },
  {
   "cell_type": "code",
   "execution_count": null,
   "id": "e97f264e-e1b4-43a2-aeaf-d79f4030beb0",
   "metadata": {
    "tags": []
   },
   "outputs": [],
   "source": [
    "sequence_length = 10\n",
    "X, y = create_sequences(data, sequence_length)"
   ]
  },
  {
   "cell_type": "code",
   "execution_count": 14,
   "id": "3ead1973-054b-4ba2-a822-8257b0dffe49",
   "metadata": {
    "tags": []
   },
   "outputs": [],
   "source": [
    "# 将序列展平为二维数组\n",
    "X_flat = X.reshape(X.shape[0] * X.shape[1], X.shape[2])\n",
    "\n",
    "# 对展平后的数据进行标准化\n",
    "scaler = StandardScaler()\n",
    "X_scaled = scaler.fit_transform(X_flat)\n",
    "\n",
    "# 将数据重新调整为三维数组\n",
    "X_scaled_reshaped = X_scaled.reshape(X.shape[0], X.shape[1], X.shape[2])\n"
   ]
  },
  {
   "cell_type": "code",
   "execution_count": 15,
   "id": "f26c5b1b-658f-4047-a054-fc6ee60eb5a0",
   "metadata": {
    "tags": []
   },
   "outputs": [
    {
     "data": {
      "text/plain": [
       "array(['Others', 'Others', 'Others', 'Others', 'Others', 'Others',\n",
       "       'Others', 'Others', 'Others', 'Others', 'Others', 'Others',\n",
       "       'Others', 'Others', 'Others', 'Others', 'Others', 'Others',\n",
       "       'Others', 'Others', 'Others', 'Others', 'Others', 'Others',\n",
       "       'Others', 'Normal', 'Normal', 'Normal', 'Normal', 'Normal',\n",
       "       'Normal', 'Normal', 'Normal', 'Normal', 'Normal', 'Normal',\n",
       "       'Normal', 'Normal', 'Normal', 'Normal', 'Normal', 'Normal',\n",
       "       'Normal', 'Normal', 'Normal', 'Normal', 'Normal', 'Normal',\n",
       "       'Normal', 'Normal', 'Normal', 'Normal', 'Normal', 'Normal',\n",
       "       'Normal', 'Normal', 'Normal', 'Normal', 'Normal', 'Normal',\n",
       "       'Normal', 'Normal', 'Normal', 'Normal', 'Normal', 'Normal',\n",
       "       'Normal', 'Normal', 'Normal', 'Normal', 'Normal', 'Normal',\n",
       "       'Normal', 'Normal', 'Normal', 'Normal', 'Normal', 'Normal',\n",
       "       'Normal', 'Normal', 'Normal', 'Normal', 'Normal', 'Normal',\n",
       "       'Normal', 'Normal', 'Normal', 'Normal', 'Normal', 'Normal'],\n",
       "      dtype='<U6')"
      ]
     },
     "execution_count": 15,
     "metadata": {},
     "output_type": "execute_result"
    }
   ],
   "source": [
    "y"
   ]
  },
  {
   "cell_type": "code",
   "execution_count": 16,
   "id": "13067f7a-7468-4d92-8370-4db6669b1f8a",
   "metadata": {
    "tags": []
   },
   "outputs": [],
   "source": [
    "label_encoder = LabelEncoder()\n",
    "y = label_encoder.fit_transform(y)"
   ]
  },
  {
   "cell_type": "code",
   "execution_count": 17,
   "id": "b17625fd-fdbb-43f9-9c81-d57df39fcb9f",
   "metadata": {
    "tags": []
   },
   "outputs": [
    {
     "data": {
      "text/plain": [
       "array([1, 1, 1, 1, 1, 1, 1, 1, 1, 1, 1, 1, 1, 1, 1, 1, 1, 1, 1, 1, 1, 1,\n",
       "       1, 1, 1, 0, 0, 0, 0, 0, 0, 0, 0, 0, 0, 0, 0, 0, 0, 0, 0, 0, 0, 0,\n",
       "       0, 0, 0, 0, 0, 0, 0, 0, 0, 0, 0, 0, 0, 0, 0, 0, 0, 0, 0, 0, 0, 0,\n",
       "       0, 0, 0, 0, 0, 0, 0, 0, 0, 0, 0, 0, 0, 0, 0, 0, 0, 0, 0, 0, 0, 0,\n",
       "       0, 0])"
      ]
     },
     "execution_count": 17,
     "metadata": {},
     "output_type": "execute_result"
    }
   ],
   "source": [
    "y"
   ]
  },
  {
   "cell_type": "code",
   "execution_count": 18,
   "id": "73678449-fb52-480b-827d-80a94b09de47",
   "metadata": {
    "tags": []
   },
   "outputs": [
    {
     "name": "stdout",
     "output_type": "stream",
     "text": [
      "Available Memory: 2.37 GB\n"
     ]
    }
   ],
   "source": [
    "memory_info = psutil.virtual_memory()\n",
    "print(f'Available Memory: {memory_info.available / (1024 ** 3):.2f} GB')"
   ]
  },
  {
   "cell_type": "code",
   "execution_count": 19,
   "id": "b2d73f32-8f49-4f7e-946c-bba14418f8ba",
   "metadata": {
    "tags": []
   },
   "outputs": [],
   "source": [
    "# 分割数据集为训练集和测试集\n",
    "X_train, X_test, y_train, y_test = train_test_split(X, y, test_size=0.2, random_state=42)\n",
    "\n"
   ]
  },
  {
   "cell_type": "code",
   "execution_count": 20,
   "id": "9779f3cd-f116-4ff3-b883-dbdde701f872",
   "metadata": {
    "tags": []
   },
   "outputs": [],
   "source": [
    "# 转换为PyTorch张量\n",
    "X_train = torch.tensor(X_train, dtype=torch.float32)\n",
    "y_train = torch.tensor(y_train, dtype=torch.long)\n",
    "X_test = torch.tensor(X_test, dtype=torch.float32)\n",
    "y_test = torch.tensor(y_test, dtype=torch.long)"
   ]
  },
  {
   "cell_type": "code",
   "execution_count": 21,
   "id": "d7771176-9a14-47a9-ad10-54054107e9ec",
   "metadata": {
    "tags": []
   },
   "outputs": [],
   "source": [
    "\n",
    "\n",
    "# 创建DataLoader\n",
    "batch_size = 1\n",
    "train_dataset = TensorDataset(X_train, y_train)\n",
    "test_dataset = TensorDataset(X_test, y_test)\n",
    "train_loader = DataLoader(train_dataset, batch_size=batch_size, shuffle=True)\n",
    "test_loader = DataLoader(test_dataset, batch_size=batch_size, shuffle=False)"
   ]
  },
  {
   "cell_type": "code",
   "execution_count": 22,
   "id": "2f6ffcc8-2ee5-45cf-8f45-4269f73db39e",
   "metadata": {
    "tags": []
   },
   "outputs": [
    {
     "name": "stdout",
     "output_type": "stream",
     "text": [
      "Available Memory: 2.38 GB\n"
     ]
    }
   ],
   "source": [
    "memory_info = psutil.virtual_memory()\n",
    "print(f'Available Memory: {memory_info.available / (1024 ** 3):.2f} GB')"
   ]
  },
  {
   "cell_type": "code",
   "execution_count": 23,
   "id": "ec23e82c-da01-4e69-9c86-bc3f806b2b50",
   "metadata": {
    "tags": []
   },
   "outputs": [],
   "source": [
    "# 参数设置\n",
    "input_size = X_train.shape[2]\n",
    "num_classes = len(np.unique(y))\n",
    "num_channels = [25, 25, 25, 25]"
   ]
  },
  {
   "cell_type": "code",
   "execution_count": 24,
   "id": "cad08833-ad48-4c69-bed3-a064f5974adc",
   "metadata": {
    "tags": []
   },
   "outputs": [
    {
     "data": {
      "text/plain": [
       "25"
      ]
     },
     "execution_count": 24,
     "metadata": {},
     "output_type": "execute_result"
    }
   ],
   "source": [
    "input_size"
   ]
  },
  {
   "cell_type": "code",
   "execution_count": 25,
   "id": "99093621-36e5-4e2b-bba8-8a49aa0f992e",
   "metadata": {
    "tags": []
   },
   "outputs": [
    {
     "data": {
      "text/plain": [
       "2"
      ]
     },
     "execution_count": 25,
     "metadata": {},
     "output_type": "execute_result"
    }
   ],
   "source": [
    "num_classes"
   ]
  },
  {
   "cell_type": "code",
   "execution_count": 26,
   "id": "666c742b-f1b7-47e3-a24d-23e025b59626",
   "metadata": {
    "tags": []
   },
   "outputs": [
    {
     "name": "stderr",
     "output_type": "stream",
     "text": [
      "/Users/minami/anaconda3/lib/python3.11/site-packages/torch/nn/utils/weight_norm.py:28: UserWarning: torch.nn.utils.weight_norm is deprecated in favor of torch.nn.utils.parametrizations.weight_norm.\n",
      "  warnings.warn(\"torch.nn.utils.weight_norm is deprecated in favor of torch.nn.utils.parametrizations.weight_norm.\")\n"
     ]
    }
   ],
   "source": [
    "# 模型实例化\n",
    "model = TCNClassifier(input_size, num_classes, num_channels)"
   ]
  },
  {
   "cell_type": "code",
   "execution_count": 27,
   "id": "e76793ac-f1e7-4cf6-bc7f-3f945d044ce9",
   "metadata": {
    "tags": []
   },
   "outputs": [],
   "source": [
    "\n",
    "\n",
    "\n",
    "criterion = nn.CrossEntropyLoss()\n",
    "optimizer = torch.optim.Adam(model.parameters(), lr=0.001)\n",
    "# 训练模型\n",
    "num_epochs = 50\n"
   ]
  },
  {
   "cell_type": "code",
   "execution_count": null,
   "id": "72d79b36-34e7-42ea-8417-2d95eecb1345",
   "metadata": {
    "tags": []
   },
   "outputs": [],
   "source": [
    "\n",
    "for epoch in range(num_epochs):\n",
    "    model.train()\n",
    "    for i, (inputs, labels) in enumerate(train_loader):\n",
    "        outputs = model(inputs.permute(0, 2, 1))\n",
    "        loss = criterion(outputs, labels)\n",
    "        optimizer.zero_grad()\n",
    "        loss.backward()\n",
    "        optimizer.step()\n",
    "    \n",
    "    model.eval()\n",
    "    correct = 0\n",
    "    total = 0\n",
    "    with torch.no_grad():\n",
    "        for inputs, labels in test_loader:\n",
    "            outputs = model(inputs.permute(0, 2, 1))\n",
    "            _, predicted = torch.max(outputs.data, 1)\n",
    "            total += labels.size(0)\n",
    "            correct += (predicted == labels).sum().item()\n",
    "    accuracy = 100 * correct / total\n",
    "    print(f'Epoch [{epoch+1}/{num_epochs}], Loss: {loss.item():.4f}, Accuracy: {accuracy:.2f}%')"
   ]
  },
  {
   "cell_type": "code",
   "execution_count": null,
   "id": "1984f0f4-fa63-4844-9403-b9a4024ea088",
   "metadata": {},
   "outputs": [],
   "source": []
  },
  {
   "cell_type": "code",
   "execution_count": null,
   "id": "1266180d-4935-4991-98a8-b1a75e8071ad",
   "metadata": {},
   "outputs": [],
   "source": []
  }
 ],
 "metadata": {
  "kernelspec": {
   "display_name": "Python 3 (ipykernel)",
   "language": "python",
   "name": "python3"
  },
  "language_info": {
   "codemirror_mode": {
    "name": "ipython",
    "version": 3
   },
   "file_extension": ".py",
   "mimetype": "text/x-python",
   "name": "python",
   "nbconvert_exporter": "python",
   "pygments_lexer": "ipython3",
   "version": "3.11.5"
  }
 },
 "nbformat": 4,
 "nbformat_minor": 5
}
